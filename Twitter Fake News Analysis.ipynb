{
 "cells": [
  {
   "cell_type": "markdown",
   "metadata": {},
   "source": [
    "# Twitter Fake News Analysis"
   ]
  },
  {
   "cell_type": "markdown",
   "metadata": {},
   "source": [
    "## Option 1: Fetch Tweets Using Tweepy ##\n",
    "\n",
    "First we will instantiate the Twitter API.  To do so, you must create a Twitter app and obtain a consumer key, consumer secret, access token, and access secret.  "
   ]
  },
  {
   "cell_type": "code",
   "execution_count": 2,
   "metadata": {},
   "outputs": [],
   "source": [
    "import json\n",
    "import tweepy\n",
    "\n",
    "# Insert your keys and secrets here.\n",
    "# https://www.digitalocean.com/community/tutorials/how-to-authenticate-a-python-application-with-twitter-using-tweepy-on-ubuntu-14-04\n",
    "\n",
    "consumer_key = ''\n",
    "consumer_secret = ''\n",
    "access_token = ''\n",
    "access_token_secret = ''\n",
    "\n",
    "auth = tweepy.OAuthHandler(consumer_key, consumer_secret)\n",
    "auth.set_access_token(access_token, access_token_secret)\n",
    "\n",
    "api = tweepy.API(auth, wait_on_rate_limit=True,wait_on_rate_limit_notify=True)"
   ]
  },
  {
   "cell_type": "markdown",
   "metadata": {},
   "source": [
    "Next, we will use the Tweepy cursor API to fetch some recent tweets corresponding to a particular search term. Note that this is a fairly slow process, so you might want to do this every once in awhile and then write your Tweets to disk as a JSON file once you have a good working set."
   ]
  },
  {
   "cell_type": "code",
   "execution_count": 3,
   "metadata": {},
   "outputs": [],
   "source": [
    "data = []\n",
    "limit = 100\n",
    "query = 'news'\n",
    "\n",
    "for tweet in tweepy.Cursor(api.search, q=query, lang='en').items(limit):\n",
    "    data.append(tweet._json)"
   ]
  },
  {
   "cell_type": "markdown",
   "metadata": {},
   "source": [
    "You can always check how many queries you have left using rate_limit_status() method"
   ]
  },
  {
   "cell_type": "code",
   "execution_count": 4,
   "metadata": {},
   "outputs": [
    {
     "data": {
      "text/plain": [
       "{'/search/tweets': {'limit': 180, 'remaining': 149, 'reset': 1561061467}}"
      ]
     },
     "execution_count": 4,
     "metadata": {},
     "output_type": "execute_result"
    }
   ],
   "source": [
    "api.rate_limit_status()['resources']['search']"
   ]
  },
  {
   "cell_type": "markdown",
   "metadata": {},
   "source": [
    "Once you have either fetched or loaded Tweets into the data structure, you can have a look at what is in the JSON file."
   ]
  },
  {
   "cell_type": "code",
   "execution_count": 68,
   "metadata": {},
   "outputs": [],
   "source": [
    "with open('./news.json', 'w') as f:  \n",
    "    json.dump(data, f)"
   ]
  },
  {
   "cell_type": "markdown",
   "metadata": {},
   "source": [
    "## Opption 2: Import Tweets from JSON\n",
    "\n",
    "If you have an existing file of JSON tweets, you can import Teets from a saved JSON file, which you might have previously gathered using RTweet or Tweepy."
   ]
  },
  {
   "cell_type": "code",
   "execution_count": 71,
   "metadata": {},
   "outputs": [],
   "source": [
    "import json\n",
    "from pprint import pprint\n",
    "\n",
    "with open('./news.json') as f:\n",
    "    data = json.load(f)"
   ]
  },
  {
   "cell_type": "code",
   "execution_count": 72,
   "metadata": {},
   "outputs": [
    {
     "name": "stdout",
     "output_type": "stream",
     "text": [
      "https://www.yahoo.com/news/latest-pelosi-says-us-cannot-151235909.html?.tsrc=fauxdal\n",
      "{\n",
      "    \"contributors\": null,\n",
      "    \"coordinates\": null,\n",
      "    \"created_at\": \"Thu Jun 20 20:02:54 +0000 2019\",\n",
      "    \"entities\": {\n",
      "        \"hashtags\": [],\n",
      "        \"media\": [\n",
      "            {\n",
      "                \"display_url\": \"pic.twitter.com/drc29mV42x\",\n",
      "                \"expanded_url\": \"https://twitter.com/enews/status/1141538039409324032/video/1\",\n",
      "                \"id\": 1141537021716025344,\n",
      "                \"id_str\": \"1141537021716025344\",\n",
      "                \"indices\": [\n",
      "                    112,\n",
      "                    135\n",
      "                ],\n",
      "                \"media_url\": \"http://pbs.twimg.com/amplify_video_thumb/1141537021716025344/img/mYKUecn67SSCFgJ6.jpg\",\n",
      "                \"media_url_https\": \"https://pbs.twimg.com/amplify_video_thumb/1141537021716025344/img/mYKUecn67SSCFgJ6.jpg\",\n",
      "                \"sizes\": {\n",
      "                    \"large\": {\n",
      "                        \"h\": 480,\n",
      "                        \"resize\": \"fit\",\n",
      "                        \"w\": 480\n",
      "                    },\n",
      "                    \"medium\": {\n",
      "                        \"h\": 480,\n",
      "                        \"resize\": \"fit\",\n",
      "                        \"w\": 480\n",
      "                    },\n",
      "                    \"small\": {\n",
      "                        \"h\": 480,\n",
      "                        \"resize\": \"fit\",\n",
      "                        \"w\": 480\n",
      "                    },\n",
      "                    \"thumb\": {\n",
      "                        \"h\": 150,\n",
      "                        \"resize\": \"crop\",\n",
      "                        \"w\": 150\n",
      "                    }\n",
      "                },\n",
      "                \"source_status_id\": 1141538039409324032,\n",
      "                \"source_status_id_str\": \"1141538039409324032\",\n",
      "                \"source_user_id\": 2883841,\n",
      "                \"source_user_id_str\": \"2883841\",\n",
      "                \"type\": \"photo\",\n",
      "                \"url\": \"https://t.co/drc29mV42x\"\n",
      "            }\n",
      "        ],\n",
      "        \"symbols\": [],\n",
      "        \"urls\": [\n",
      "            {\n",
      "                \"display_url\": \"eonli.ne/2Y0Wbxc\",\n",
      "                \"expanded_url\": \"https://eonli.ne/2Y0Wbxc\",\n",
      "                \"indices\": [\n",
      "                    88,\n",
      "                    111\n",
      "                ],\n",
      "                \"url\": \"https://t.co/jobDyDSJNC\"\n",
      "            }\n",
      "        ],\n",
      "        \"user_mentions\": [\n",
      "            {\n",
      "                \"id\": 2883841,\n",
      "                \"id_str\": \"2883841\",\n",
      "                \"indices\": [\n",
      "                    3,\n",
      "                    9\n",
      "                ],\n",
      "                \"name\": \"E! News\",\n",
      "                \"screen_name\": \"enews\"\n",
      "            }\n",
      "        ]\n",
      "    },\n",
      "    \"extended_entities\": {\n",
      "        \"media\": [\n",
      "            {\n",
      "                \"additional_media_info\": {\n",
      "                    \"monetizable\": false,\n",
      "                    \"source_user\": {\n",
      "                        \"contributors_enabled\": false,\n",
      "                        \"created_at\": \"Thu Mar 29 19:42:27 +0000 2007\",\n",
      "                        \"default_profile\": false,\n",
      "                        \"default_profile_image\": false,\n",
      "                        \"description\": \"Entertainment news from https://t.co/G81dlZzugA\\u2014watch weeknights at 7p for the latest!\",\n",
      "                        \"entities\": {\n",
      "                            \"description\": {\n",
      "                                \"urls\": [\n",
      "                                    {\n",
      "                                        \"display_url\": \"eonline.com\",\n",
      "                                        \"expanded_url\": \"http://eonline.com\",\n",
      "                                        \"indices\": [\n",
      "                                            24,\n",
      "                                            47\n",
      "                                        ],\n",
      "                                        \"url\": \"https://t.co/G81dlZzugA\"\n",
      "                                    }\n",
      "                                ]\n",
      "                            },\n",
      "                            \"url\": {\n",
      "                                \"urls\": [\n",
      "                                    {\n",
      "                                        \"display_url\": \"eonline.com\",\n",
      "                                        \"expanded_url\": \"http://www.eonline.com\",\n",
      "                                        \"indices\": [\n",
      "                                            0,\n",
      "                                            23\n",
      "                                        ],\n",
      "                                        \"url\": \"https://t.co/J6mkqdLswn\"\n",
      "                                    }\n",
      "                                ]\n",
      "                            }\n",
      "                        },\n",
      "                        \"favourites_count\": 30083,\n",
      "                        \"follow_request_sent\": false,\n",
      "                        \"followers_count\": 11624581,\n",
      "                        \"following\": false,\n",
      "                        \"friends_count\": 117370,\n",
      "                        \"geo_enabled\": true,\n",
      "                        \"has_extended_profile\": false,\n",
      "                        \"id\": 2883841,\n",
      "                        \"id_str\": \"2883841\",\n",
      "                        \"is_translation_enabled\": true,\n",
      "                        \"is_translator\": false,\n",
      "                        \"lang\": \"en\",\n",
      "                        \"listed_count\": 35785,\n",
      "                        \"location\": \"Hollywood, CA\",\n",
      "                        \"name\": \"E! News\",\n",
      "                        \"notifications\": false,\n",
      "                        \"profile_background_color\": \"FFFFFF\",\n",
      "                        \"profile_background_image_url\": \"http://abs.twimg.com/images/themes/theme1/bg.png\",\n",
      "                        \"profile_background_image_url_https\": \"https://abs.twimg.com/images/themes/theme1/bg.png\",\n",
      "                        \"profile_background_tile\": false,\n",
      "                        \"profile_banner_url\": \"https://pbs.twimg.com/profile_banners/2883841/1557244873\",\n",
      "                        \"profile_image_url\": \"http://pbs.twimg.com/profile_images/724754009869848576/otTK78HH_normal.jpg\",\n",
      "                        \"profile_image_url_https\": \"https://pbs.twimg.com/profile_images/724754009869848576/otTK78HH_normal.jpg\",\n",
      "                        \"profile_link_color\": \"00B0F0\",\n",
      "                        \"profile_sidebar_border_color\": \"000000\",\n",
      "                        \"profile_sidebar_fill_color\": \"F0F0F0\",\n",
      "                        \"profile_text_color\": \"0D0D0D\",\n",
      "                        \"profile_use_background_image\": true,\n",
      "                        \"protected\": false,\n",
      "                        \"screen_name\": \"enews\",\n",
      "                        \"statuses_count\": 236039,\n",
      "                        \"time_zone\": null,\n",
      "                        \"translator_type\": \"none\",\n",
      "                        \"url\": \"https://t.co/J6mkqdLswn\",\n",
      "                        \"utc_offset\": null,\n",
      "                        \"verified\": true\n",
      "                    }\n",
      "                },\n",
      "                \"display_url\": \"pic.twitter.com/drc29mV42x\",\n",
      "                \"expanded_url\": \"https://twitter.com/enews/status/1141538039409324032/video/1\",\n",
      "                \"id\": 1141537021716025344,\n",
      "                \"id_str\": \"1141537021716025344\",\n",
      "                \"indices\": [\n",
      "                    112,\n",
      "                    135\n",
      "                ],\n",
      "                \"media_url\": \"http://pbs.twimg.com/amplify_video_thumb/1141537021716025344/img/mYKUecn67SSCFgJ6.jpg\",\n",
      "                \"media_url_https\": \"https://pbs.twimg.com/amplify_video_thumb/1141537021716025344/img/mYKUecn67SSCFgJ6.jpg\",\n",
      "                \"sizes\": {\n",
      "                    \"large\": {\n",
      "                        \"h\": 480,\n",
      "                        \"resize\": \"fit\",\n",
      "                        \"w\": 480\n",
      "                    },\n",
      "                    \"medium\": {\n",
      "                        \"h\": 480,\n",
      "                        \"resize\": \"fit\",\n",
      "                        \"w\": 480\n",
      "                    },\n",
      "                    \"small\": {\n",
      "                        \"h\": 480,\n",
      "                        \"resize\": \"fit\",\n",
      "                        \"w\": 480\n",
      "                    },\n",
      "                    \"thumb\": {\n",
      "                        \"h\": 150,\n",
      "                        \"resize\": \"crop\",\n",
      "                        \"w\": 150\n",
      "                    }\n",
      "                },\n",
      "                \"source_status_id\": 1141538039409324032,\n",
      "                \"source_status_id_str\": \"1141538039409324032\",\n",
      "                \"source_user_id\": 2883841,\n",
      "                \"source_user_id_str\": \"2883841\",\n",
      "                \"type\": \"video\",\n",
      "                \"url\": \"https://t.co/drc29mV42x\",\n",
      "                \"video_info\": {\n",
      "                    \"aspect_ratio\": [\n",
      "                        1,\n",
      "                        1\n",
      "                    ],\n",
      "                    \"duration_millis\": 26334,\n",
      "                    \"variants\": [\n",
      "                        {\n",
      "                            \"bitrate\": 832000,\n",
      "                            \"content_type\": \"video/mp4\",\n",
      "                            \"url\": \"https://video.twimg.com/amplify_video/1141537021716025344/vid/480x480/IFBX1tw0GjgkEjHY.mp4?tag=13\"\n",
      "                        },\n",
      "                        {\n",
      "                            \"bitrate\": 432000,\n",
      "                            \"content_type\": \"video/mp4\",\n",
      "                            \"url\": \"https://video.twimg.com/amplify_video/1141537021716025344/vid/320x320/AHPNmUFI9qxa8I_s.mp4?tag=13\"\n",
      "                        },\n",
      "                        {\n",
      "                            \"content_type\": \"application/x-mpegURL\",\n",
      "                            \"url\": \"https://video.twimg.com/amplify_video/1141537021716025344/pl/H-lYLdn8wq3EXVGm.m3u8?tag=13\"\n",
      "                        }\n",
      "                    ]\n",
      "                }\n",
      "            }\n",
      "        ]\n",
      "    },\n",
      "    \"favorite_count\": 0,\n",
      "    \"favorited\": false,\n",
      "    \"geo\": null,\n",
      "    \"id\": 1141798601565200384,\n",
      "    \"id_str\": \"1141798601565200384\",\n",
      "    \"in_reply_to_screen_name\": null,\n",
      "    \"in_reply_to_status_id\": null,\n",
      "    \"in_reply_to_status_id_str\": null,\n",
      "    \"in_reply_to_user_id\": null,\n",
      "    \"in_reply_to_user_id_str\": null,\n",
      "    \"is_quote_status\": false,\n",
      "    \"lang\": \"en\",\n",
      "    \"metadata\": {\n",
      "        \"iso_language_code\": \"en\",\n",
      "        \"result_type\": \"recent\"\n",
      "    },\n",
      "    \"place\": null,\n",
      "    \"possibly_sensitive\": false,\n",
      "    \"retweet_count\": 37400,\n",
      "    \"retweeted\": false,\n",
      "    \"retweeted_status\": {\n",
      "        \"contributors\": null,\n",
      "        \"coordinates\": null,\n",
      "        \"created_at\": \"Thu Jun 20 02:47:32 +0000 2019\",\n",
      "        \"entities\": {\n",
      "            \"hashtags\": [],\n",
      "            \"media\": [\n",
      "                {\n",
      "                    \"display_url\": \"pic.twitter.com/drc29mV42x\",\n",
      "                    \"expanded_url\": \"https://twitter.com/enews/status/1141538039409324032/video/1\",\n",
      "                    \"id\": 1141537021716025344,\n",
      "                    \"id_str\": \"1141537021716025344\",\n",
      "                    \"indices\": [\n",
      "                        101,\n",
      "                        124\n",
      "                    ],\n",
      "                    \"media_url\": \"http://pbs.twimg.com/amplify_video_thumb/1141537021716025344/img/mYKUecn67SSCFgJ6.jpg\",\n",
      "                    \"media_url_https\": \"https://pbs.twimg.com/amplify_video_thumb/1141537021716025344/img/mYKUecn67SSCFgJ6.jpg\",\n",
      "                    \"sizes\": {\n",
      "                        \"large\": {\n",
      "                            \"h\": 480,\n",
      "                            \"resize\": \"fit\",\n",
      "                            \"w\": 480\n",
      "                        },\n",
      "                        \"medium\": {\n",
      "                            \"h\": 480,\n",
      "                            \"resize\": \"fit\",\n",
      "                            \"w\": 480\n",
      "                        },\n",
      "                        \"small\": {\n",
      "                            \"h\": 480,\n",
      "                            \"resize\": \"fit\",\n",
      "                            \"w\": 480\n",
      "                        },\n",
      "                        \"thumb\": {\n",
      "                            \"h\": 150,\n",
      "                            \"resize\": \"crop\",\n",
      "                            \"w\": 150\n",
      "                        }\n",
      "                    },\n",
      "                    \"type\": \"photo\",\n",
      "                    \"url\": \"https://t.co/drc29mV42x\"\n",
      "                }\n",
      "            ],\n",
      "            \"symbols\": [],\n",
      "            \"urls\": [\n",
      "                {\n",
      "                    \"display_url\": \"eonli.ne/2Y0Wbxc\",\n",
      "                    \"expanded_url\": \"https://eonli.ne/2Y0Wbxc\",\n",
      "                    \"indices\": [\n",
      "                        77,\n",
      "                        100\n",
      "                    ],\n",
      "                    \"url\": \"https://t.co/jobDyDSJNC\"\n",
      "                }\n",
      "            ],\n",
      "            \"user_mentions\": []\n",
      "        },\n",
      "        \"extended_entities\": {\n",
      "            \"media\": [\n",
      "                {\n",
      "                    \"additional_media_info\": {\n",
      "                        \"monetizable\": false\n",
      "                    },\n",
      "                    \"display_url\": \"pic.twitter.com/drc29mV42x\",\n",
      "                    \"expanded_url\": \"https://twitter.com/enews/status/1141538039409324032/video/1\",\n",
      "                    \"id\": 1141537021716025344,\n",
      "                    \"id_str\": \"1141537021716025344\",\n",
      "                    \"indices\": [\n",
      "                        101,\n",
      "                        124\n",
      "                    ],\n",
      "                    \"media_url\": \"http://pbs.twimg.com/amplify_video_thumb/1141537021716025344/img/mYKUecn67SSCFgJ6.jpg\",\n",
      "                    \"media_url_https\": \"https://pbs.twimg.com/amplify_video_thumb/1141537021716025344/img/mYKUecn67SSCFgJ6.jpg\",\n",
      "                    \"sizes\": {\n",
      "                        \"large\": {\n",
      "                            \"h\": 480,\n",
      "                            \"resize\": \"fit\",\n",
      "                            \"w\": 480\n",
      "                        },\n",
      "                        \"medium\": {\n",
      "                            \"h\": 480,\n",
      "                            \"resize\": \"fit\",\n",
      "                            \"w\": 480\n",
      "                        },\n",
      "                        \"small\": {\n",
      "                            \"h\": 480,\n",
      "                            \"resize\": \"fit\",\n",
      "                            \"w\": 480\n",
      "                        },\n",
      "                        \"thumb\": {\n",
      "                            \"h\": 150,\n",
      "                            \"resize\": \"crop\",\n",
      "                            \"w\": 150\n",
      "                        }\n",
      "                    },\n",
      "                    \"type\": \"video\",\n",
      "                    \"url\": \"https://t.co/drc29mV42x\",\n",
      "                    \"video_info\": {\n",
      "                        \"aspect_ratio\": [\n",
      "                            1,\n",
      "                            1\n",
      "                        ],\n",
      "                        \"duration_millis\": 26334,\n",
      "                        \"variants\": [\n",
      "                            {\n",
      "                                \"bitrate\": 832000,\n",
      "                                \"content_type\": \"video/mp4\",\n",
      "                                \"url\": \"https://video.twimg.com/amplify_video/1141537021716025344/vid/480x480/IFBX1tw0GjgkEjHY.mp4?tag=13\"\n",
      "                            },\n",
      "                            {\n",
      "                                \"bitrate\": 432000,\n",
      "                                \"content_type\": \"video/mp4\",\n",
      "                                \"url\": \"https://video.twimg.com/amplify_video/1141537021716025344/vid/320x320/AHPNmUFI9qxa8I_s.mp4?tag=13\"\n",
      "                            },\n",
      "                            {\n",
      "                                \"content_type\": \"application/x-mpegURL\",\n",
      "                                \"url\": \"https://video.twimg.com/amplify_video/1141537021716025344/pl/H-lYLdn8wq3EXVGm.m3u8?tag=13\"\n",
      "                            }\n",
      "                        ]\n",
      "                    }\n",
      "                }\n",
      "            ]\n",
      "        },\n",
      "        \"favorite_count\": 156124,\n",
      "        \"favorited\": false,\n",
      "        \"geo\": null,\n",
      "        \"id\": 1141538039409324032,\n",
      "        \"id_str\": \"1141538039409324032\",\n",
      "        \"in_reply_to_screen_name\": null,\n",
      "        \"in_reply_to_status_id\": null,\n",
      "        \"in_reply_to_status_id_str\": null,\n",
      "        \"in_reply_to_user_id\": null,\n",
      "        \"in_reply_to_user_id_str\": null,\n",
      "        \"is_quote_status\": false,\n",
      "        \"lang\": \"en\",\n",
      "        \"metadata\": {\n",
      "            \"iso_language_code\": \"en\",\n",
      "            \"result_type\": \"recent\"\n",
      "        },\n",
      "        \"place\": null,\n",
      "        \"possibly_sensitive\": false,\n",
      "        \"retweet_count\": 37400,\n",
      "        \"retweeted\": false,\n",
      "        \"source\": \"<a href=\\\"http://www.socialflow.com\\\" rel=\\\"nofollow\\\">SocialFlow</a>\",\n",
      "        \"text\": \"Ashton Kutcher and Mila Kunis set the record straight on their split rumors. https://t.co/jobDyDSJNC https://t.co/drc29mV42x\",\n",
      "        \"truncated\": false,\n",
      "        \"user\": {\n",
      "            \"contributors_enabled\": false,\n",
      "            \"created_at\": \"Thu Mar 29 19:42:27 +0000 2007\",\n",
      "            \"default_profile\": false,\n",
      "            \"default_profile_image\": false,\n",
      "            \"description\": \"Entertainment news from https://t.co/G81dlZzugA\\u2014watch weeknights at 7p for the latest!\",\n",
      "            \"entities\": {\n",
      "                \"description\": {\n",
      "                    \"urls\": [\n",
      "                        {\n",
      "                            \"display_url\": \"eonline.com\",\n",
      "                            \"expanded_url\": \"http://eonline.com\",\n",
      "                            \"indices\": [\n",
      "                                24,\n",
      "                                47\n",
      "                            ],\n",
      "                            \"url\": \"https://t.co/G81dlZzugA\"\n",
      "                        }\n",
      "                    ]\n",
      "                },\n",
      "                \"url\": {\n",
      "                    \"urls\": [\n",
      "                        {\n",
      "                            \"display_url\": \"eonline.com\",\n",
      "                            \"expanded_url\": \"http://www.eonline.com\",\n",
      "                            \"indices\": [\n",
      "                                0,\n",
      "                                23\n",
      "                            ],\n",
      "                            \"url\": \"https://t.co/J6mkqdLswn\"\n",
      "                        }\n",
      "                    ]\n",
      "                }\n",
      "            },\n",
      "            \"favourites_count\": 30083,\n",
      "            \"follow_request_sent\": false,\n",
      "            \"followers_count\": 11624581,\n",
      "            \"following\": false,\n",
      "            \"friends_count\": 117370,\n",
      "            \"geo_enabled\": true,\n",
      "            \"has_extended_profile\": false,\n",
      "            \"id\": 2883841,\n",
      "            \"id_str\": \"2883841\",\n",
      "            \"is_translation_enabled\": true,\n",
      "            \"is_translator\": false,\n",
      "            \"lang\": \"en\",\n",
      "            \"listed_count\": 35785,\n",
      "            \"location\": \"Hollywood, CA\",\n",
      "            \"name\": \"E! News\",\n",
      "            \"notifications\": false,\n",
      "            \"profile_background_color\": \"FFFFFF\",\n",
      "            \"profile_background_image_url\": \"http://abs.twimg.com/images/themes/theme1/bg.png\",\n",
      "            \"profile_background_image_url_https\": \"https://abs.twimg.com/images/themes/theme1/bg.png\",\n",
      "            \"profile_background_tile\": false,\n",
      "            \"profile_banner_url\": \"https://pbs.twimg.com/profile_banners/2883841/1557244873\",\n",
      "            \"profile_image_url\": \"http://pbs.twimg.com/profile_images/724754009869848576/otTK78HH_normal.jpg\",\n",
      "            \"profile_image_url_https\": \"https://pbs.twimg.com/profile_images/724754009869848576/otTK78HH_normal.jpg\",\n",
      "            \"profile_link_color\": \"00B0F0\",\n",
      "            \"profile_sidebar_border_color\": \"000000\",\n",
      "            \"profile_sidebar_fill_color\": \"F0F0F0\",\n",
      "            \"profile_text_color\": \"0D0D0D\",\n",
      "            \"profile_use_background_image\": true,\n",
      "            \"protected\": false,\n",
      "            \"screen_name\": \"enews\",\n",
      "            \"statuses_count\": 236039,\n",
      "            \"time_zone\": null,\n",
      "            \"translator_type\": \"none\",\n",
      "            \"url\": \"https://t.co/J6mkqdLswn\",\n",
      "            \"utc_offset\": null,\n",
      "            \"verified\": true\n",
      "        }\n",
      "    },\n",
      "    \"source\": \"<a href=\\\"http://twitter.com/download/android\\\" rel=\\\"nofollow\\\">Twitter for Android</a>\",\n",
      "    \"text\": \"RT @enews: Ashton Kutcher and Mila Kunis set the record straight on their split rumors. https://t.co/jobDyDSJNC https://t.co/drc29mV42x\",\n",
      "    \"truncated\": false,\n",
      "    \"user\": {\n",
      "        \"contributors_enabled\": false,\n",
      "        \"created_at\": \"Fri Jul 29 08:41:59 +0000 2011\",\n",
      "        \"default_profile\": false,\n",
      "        \"default_profile_image\": false,\n",
      "        \"description\": \"UAA. Finance and Marketing. Spring 2020.\",\n",
      "        \"entities\": {\n",
      "            \"description\": {\n",
      "                \"urls\": []\n",
      "            }\n",
      "        },\n",
      "        \"favourites_count\": 15272,\n",
      "        \"follow_request_sent\": false,\n",
      "        \"followers_count\": 658,\n",
      "        \"following\": false,\n",
      "        \"friends_count\": 431,\n",
      "        \"geo_enabled\": true,\n",
      "        \"has_extended_profile\": false,\n",
      "        \"id\": 344588860,\n",
      "        \"id_str\": \"344588860\",\n",
      "        \"is_translation_enabled\": false,\n",
      "        \"is_translator\": false,\n",
      "        \"lang\": \"en\",\n",
      "        \"listed_count\": 9,\n",
      "        \"location\": \"Anchorage, AK\",\n",
      "        \"name\": \"Vlad\",\n",
      "        \"notifications\": false,\n",
      "        \"profile_background_color\": \"11A9EB\",\n",
      "        \"profile_background_image_url\": \"http://abs.twimg.com/images/themes/theme1/bg.png\",\n",
      "        \"profile_background_image_url_https\": \"https://abs.twimg.com/images/themes/theme1/bg.png\",\n",
      "        \"profile_background_tile\": true,\n",
      "        \"profile_banner_url\": \"https://pbs.twimg.com/profile_banners/344588860/1496046740\",\n",
      "        \"profile_image_url\": \"http://pbs.twimg.com/profile_images/835355741389119488/GaQ523_A_normal.jpg\",\n",
      "        \"profile_image_url_https\": \"https://pbs.twimg.com/profile_images/835355741389119488/GaQ523_A_normal.jpg\",\n",
      "        \"profile_link_color\": \"C8A9D9\",\n",
      "        \"profile_sidebar_border_color\": \"D3B0EB\",\n",
      "        \"profile_sidebar_fill_color\": \"E3E6E5\",\n",
      "        \"profile_text_color\": \"828787\",\n",
      "        \"profile_use_background_image\": true,\n",
      "        \"protected\": false,\n",
      "        \"screen_name\": \"vladf_\",\n",
      "        \"statuses_count\": 17965,\n",
      "        \"time_zone\": null,\n",
      "        \"translator_type\": \"none\",\n",
      "        \"url\": null,\n",
      "        \"utc_offset\": null,\n",
      "        \"verified\": false\n",
      "    }\n",
      "}\n"
     ]
    }
   ],
   "source": [
    "print(data[3][\"entities\"][\"urls\"][0][\"expanded_url\"])\n",
    "print(json.dumps(data[2], indent=4, sort_keys=True))"
   ]
  },
  {
   "cell_type": "markdown",
   "metadata": {},
   "source": [
    "## Create Histogram of Common Domains in Tweets"
   ]
  },
  {
   "cell_type": "code",
   "execution_count": 73,
   "metadata": {},
   "outputs": [
    {
     "data": {
      "image/png": "[encoded data removed]",
      "text/plain": [
       "<Figure size 640x480 with 1 Axes>"
      ]
     },
     "metadata": {},
     "output_type": "display_data"
    }
   ],
   "source": [
    "%matplotlib inline\n",
    "\n",
    "import re\n",
    "from collections import defaultdict\n",
    "\n",
    "import matplotlib\n",
    "import matplotlib.pyplot as plt\n",
    "import numpy as np\n",
    "\n",
    "\n",
    "domains = defaultdict(int)\n",
    "sorted_domains = list()\n",
    "sorted_counts = list()\n",
    "\n",
    "# keep track of whether each domain was linked using HTTPS\n",
    "https = {}\n",
    "\n",
    "for d in data:\n",
    "    if (len(d[\"entities\"][\"urls\"]) < 1):\n",
    "        continue\n",
    "    for u in d[\"entities\"][\"urls\"]:\n",
    "        url = str(d[\"entities\"][\"urls\"][0][\"expanded_url\"])\n",
    "        dom = re.match(r'(http.*)\\/\\/(.*?)\\/', url)\n",
    "        if dom:\n",
    "            domain = dom.group(2)\n",
    "            domains[domain] += 1\n",
    "            https[domain] = (dom.group(1) == 'https:')\n",
    "        \n",
    "sdomains = sorted(domains, key=domains.get, reverse=True)\n",
    "\n",
    "for w in sdomains:\n",
    "    sorted_domains.append(w)\n",
    "    sorted_counts.append(domains[w])\n",
    "    # this will print all of the domains and their counts.\n",
    "    # the tail may be the most interesting part\n",
    "    # print w, domains[w]\n",
    "\n",
    "# plot the most popular domains that show up in URLs\n",
    "# plot shows only the top 10. domains has all of the counts\n",
    "\n",
    "x = sorted_domains[:20]\n",
    "y = sorted_counts[:20]\n",
    "\n",
    "plt.bar(x,y)\n",
    "plt.xticks(x, rotation='vertical')\n",
    "plt.show()"
   ]
  },
  {
   "cell_type": "markdown",
   "metadata": {},
   "source": [
    "## Explore Characteristics of Each Domain Name"
   ]
  },
  {
   "cell_type": "markdown",
   "metadata": {},
   "source": [
    "First we'll extract the following characteristics of the domain names in each Tweet:\n",
    "(1) The IP addresses that each domain resolves to\n",
    "(2) The DNS nameservers that each domain is authoritative for"
   ]
  },
  {
   "cell_type": "code",
   "execution_count": 74,
   "metadata": {},
   "outputs": [],
   "source": [
    "host_countries = dict()\n",
    "ips = dict()\n",
    "nameservers = dict()\n",
    "ns_ips = dict()"
   ]
  },
  {
   "cell_type": "markdown",
   "metadata": {},
   "source": [
    "### A Record Lookup"
   ]
  },
  {
   "cell_type": "code",
   "execution_count": 75,
   "metadata": {},
   "outputs": [
    {
     "name": "stdout",
     "output_type": "stream",
     "text": [
      "104.244.42.1\n"
     ]
    }
   ],
   "source": [
    "# requires: dnspython library\n",
    "\n",
    "import dns.resolver\n",
    "\n",
    "# Lookup IP addresses / A Records of Domain Names\n",
    "for qname in sdomains:\n",
    "    ips[qname] = list()\n",
    "    \n",
    "    try:\n",
    "        answers = dns.resolver.query(qname, 'A')\n",
    "    except dns.resolver.NXDOMAIN as e:\n",
    "        # the domain does not exist so dns resolutions remain empty\n",
    "        pass\n",
    "    except dns.resolver.NoNameservers as e:\n",
    "        # no nameservers are returned\n",
    "        pass\n",
    "    except dns.resolver.NoAnswer as e:\n",
    "        # the resolver is not answering so dns resolutions remain empty\n",
    "        pass\n",
    "\n",
    "    for rdata in answers:\n",
    "        #print qname, domains[qname], rdata.address\n",
    "        ips[qname].append(rdata.address)\n",
    "        \n",
    "print(ips['twitter.com'][0])"
   ]
  },
  {
   "cell_type": "code",
   "execution_count": 76,
   "metadata": {},
   "outputs": [
    {
     "name": "stdout",
     "output_type": "stream",
     "text": [
      "{'twitter.com': ['104.244.42.1', '104.244.42.129'], 'bit.ly': ['67.199.248.10', '67.199.248.11'], 'eonli.ne': ['67.199.248.13', '67.199.248.12'], 'www.nbcnews.com': ['2.21.100.27'], 'finance.yahoo.com': ['102.165.180.205'], 'www.dailywire.com': ['104.20.46.182', '104.20.47.182'], 'www.snappytv.com': ['54.245.111.74', '54.214.26.218', '54.244.234.121'], 'www.yahoo.com': ['87.248.98.7', '87.248.98.8'], 'www.king5.com': ['104.127.122.231'], 'www.bloomberg.com': ['151.101.225.73'], 'www.abc15.com': ['143.204.68.229', '143.204.68.245', '143.204.68.238', '143.204.68.22'], 'cointelegraph.com': ['104.20.65.243', '104.20.66.243'], 'www.bbc.com': ['151.101.224.81'], 'www.conservativereview.com': ['34.74.26.136'], 'www.mtv.com': ['2.21.101.34'], 'washex.am': ['67.199.248.12', '67.199.248.13'], 'www.itv.com': ['2.21.235.85'], 'news.vice.com': ['151.101.225.132'], 'thehill.com': ['151.101.2.217', '151.101.130.217', '151.101.194.217', '151.101.66.217'], 'on.nfl.com': ['74.217.253.90'], 'www.amazon.com': ['143.204.66.149'], '2wsb.tv': ['67.199.248.12', '67.199.248.13'], 'blbrd.cm': ['74.217.253.92'], 'www.cbc.ca': ['104.92.152.253'], 'trib.al': ['34.239.24.37', '52.72.61.95', '52.72.182.234'], 'hill.cm': ['184.73.156.246'], 'news.abs-cbn.com': ['104.16.118.25', '104.16.117.25'], 'www.myallies.com': ['178.82.236.47'], 'www.theguardian.com': ['151.101.225.111'], 'www.aninews.in': ['13.126.121.254'], 'www.express.co.uk': ['143.204.214.103', '143.204.214.14', '143.204.214.60', '143.204.214.8'], 'www.thehindu.com': ['104.75.217.193'], 'vrscout.com': ['104.196.43.176'], 'apple.news': ['23.43.29.84'], 'www.news24.com': ['104.16.252.81', '104.16.251.81'], 'www.baltimoresun.com': ['104.75.204.112'], 'a.msn.com': ['204.79.197.203']}\n"
     ]
    }
   ],
   "source": [
    "# dictionary of all of the DNS domain names -> IP addresses that host the websites\n",
    "print(ips)"
   ]
  },
  {
   "cell_type": "markdown",
   "metadata": {},
   "source": [
    "### NS Record Lookup"
   ]
  },
  {
   "cell_type": "code",
   "execution_count": 77,
   "metadata": {},
   "outputs": [],
   "source": [
    "# Lookup NS Records for Each Domain Name\n",
    "\n",
    "for qname in sdomains:\n",
    "    nameservers[qname] = list()\n",
    "    \n",
    "    try:\n",
    "        answer = dns.resolver.query(qname, 'NS', raise_on_no_answer=False)\n",
    "    except dns.resolver.NXDOMAIN as e:\n",
    "        # the domain does not exist so dns resolutions remain empty\n",
    "        pass\n",
    "    except dns.resolver.NoNameservers as e:\n",
    "        # no nameservers are returned\n",
    "        pass\n",
    "    except dns.resolver.NoAnswer as e:\n",
    "        # the resolver is not answering so dns resolutions remain empty\n",
    "        pass\n",
    "    \n",
    "    if answer.rrset is not None:        \n",
    "        for ns in answer.rrset.items:\n",
    "              fqdn = ns.to_text().upper()\n",
    "              nameservers[qname].append(fqdn)"
   ]
  },
  {
   "cell_type": "code",
   "execution_count": 78,
   "metadata": {},
   "outputs": [
    {
     "name": "stdout",
     "output_type": "stream",
     "text": [
      "{'twitter.com': ['D.R06.TWTRDNS.NET.', 'A.R06.TWTRDNS.NET.', 'D01-02.NS.TWTRDNS.NET.', 'NS4.P34.DYNECT.NET.', 'C.R06.TWTRDNS.NET.', 'NS2.P34.DYNECT.NET.', 'D01-01.NS.TWTRDNS.NET.', 'B.R06.TWTRDNS.NET.', 'NS3.P34.DYNECT.NET.', 'NS1.P34.DYNECT.NET.'], 'bit.ly': ['NS-CLOUD-C1.GOOGLEDOMAINS.COM.', 'NS-CLOUD-C2.GOOGLEDOMAINS.COM.', 'NS-CLOUD-C3.GOOGLEDOMAINS.COM.', 'NS-CLOUD-C4.GOOGLEDOMAINS.COM.', 'NS-1372.AWSDNS-43.ORG.', 'NS-1766.AWSDNS-28.CO.UK.', 'NS-276.AWSDNS-34.COM.', 'NS-705.AWSDNS-24.NET.'], 'eonli.ne': ['NS-561.AWSDNS-06.NET.', 'NS-1938.AWSDNS-50.CO.UK.', 'NS-21.AWSDNS-02.COM.', 'NS-1401.AWSDNS-47.ORG.'], 'www.nbcnews.com': [], 'finance.yahoo.com': [], 'www.dailywire.com': [], 'www.snappytv.com': [], 'www.yahoo.com': [], 'www.king5.com': [], 'www.bloomberg.com': [], 'www.abc15.com': ['NS-1350.AWSDNS-40.ORG.', 'NS-530.AWSDNS-02.NET.', 'NS-168.AWSDNS-21.COM.', 'NS-2003.AWSDNS-58.CO.UK.'], 'cointelegraph.com': ['JASON.NS.CLOUDFLARE.COM.', 'TARA.NS.CLOUDFLARE.COM.'], 'www.bbc.com': [], 'www.conservativereview.com': [], 'www.mtv.com': [], 'washex.am': ['NS2.IWANTMYNAME.NET.', 'NS4.IWANTMYNAME.NET.', 'NS3.IWANTMYNAME.NET.', 'NS1.IWANTMYNAME.NET.'], 'www.itv.com': [], 'news.vice.com': [], 'thehill.com': ['NS-1177.AWSDNS-19.ORG.', 'NS-602.AWSDNS-11.NET.', 'NS-1961.AWSDNS-53.CO.UK.', 'NS-360.AWSDNS-45.COM.'], 'on.nfl.com': [], 'www.amazon.com': ['NS-1144.AWSDNS-15.ORG.', 'NS-130.AWSDNS-16.COM.', 'NS-2021.AWSDNS-60.CO.UK.', 'NS-824.AWSDNS-39.NET.'], '2wsb.tv': ['NS3.CMGDNS.COM.', 'NS4.CMGDNS.COM.', 'NS1.CMGDNS.COM.', 'NS2.CMGDNS.COM.'], 'blbrd.cm': ['NS-731.AWSDNS-27.NET.', 'NS-1499.AWSDNS-59.ORG.', 'NS-2036.AWSDNS-62.CO.UK.', 'NS-359.AWSDNS-44.COM.'], 'www.cbc.ca': [], 'trib.al': ['NS-1885.AWSDNS-43.CO.UK.', 'NS-466.AWSDNS-58.COM.', 'NS-637.AWSDNS-15.NET.', 'NS-1190.AWSDNS-20.ORG.'], 'hill.cm': ['NS-140.AWSDNS-17.COM.', 'NS-1624.AWSDNS-11.CO.UK.', 'NS-676.AWSDNS-20.NET.', 'NS-1363.AWSDNS-42.ORG.'], 'news.abs-cbn.com': [], 'www.myallies.com': ['BRIANNA.NS.CLOUDFLARE.COM.', 'WESLEY.NS.CLOUDFLARE.COM.'], 'www.theguardian.com': [], 'www.aninews.in': [], 'www.express.co.uk': ['NS-1998.AWSDNS-57.CO.UK.', 'NS-684.AWSDNS-21.NET.', 'NS-276.AWSDNS-34.COM.', 'NS-1078.AWSDNS-06.ORG.'], 'www.thehindu.com': [], 'vrscout.com': ['NS01.DOMAINCONTROL.COM.', 'NS02.DOMAINCONTROL.COM.'], 'apple.news': ['ASIA2.AKAM.NET.', 'NS1-235.AKAM.NET.', 'USW2.AKAM.NET.', 'USW6.AKAM.NET.', 'USE1.AKAM.NET.', 'ASIA3.AKAM.NET.', 'NS1-45.AKAM.NET.', 'EUR5.AKAM.NET.'], 'www.news24.com': [], 'www.baltimoresun.com': [], 'a.msn.com': []}\n"
     ]
    }
   ],
   "source": [
    "# dictionary of all of the DNS domain names -> DNS Namservers\n",
    "print(nameservers)"
   ]
  },
  {
   "cell_type": "markdown",
   "metadata": {},
   "source": [
    "### Map Each IP Address to its corresponding ISP (AS Number)"
   ]
  },
  {
   "cell_type": "markdown",
   "metadata": {},
   "source": [
    "First let's test the Pyasn library."
   ]
  },
  {
   "cell_type": "code",
   "execution_count": 79,
   "metadata": {},
   "outputs": [
    {
     "data": {
      "text/plain": [
       "(15169, '8.8.8.0/24')"
      ]
     },
     "execution_count": 79,
     "metadata": {},
     "output_type": "execute_result"
    }
   ],
   "source": [
    "# requires: pyasn (pip install pyasn). You may need to install this manually, as Anaconda doesn't seem to have it.\n",
    "\n",
    "import pyasn\n",
    "\n",
    "asndb = pyasn.pyasn('./ipasn.dat')\n",
    "asndb.lookup('8.8.8.8')"
   ]
  },
  {
   "cell_type": "markdown",
   "metadata": {},
   "source": [
    "### Map Each DNS Nameserver to Its Corresponding IP Address"
   ]
  },
  {
   "cell_type": "code",
   "execution_count": 15,
   "metadata": {},
   "outputs": [],
   "source": [
    "for qname in nameservers.keys():\n",
    "    \n",
    "    ns_ips[qname] = list()\n",
    "    \n",
    "    for i in range(len(nameservers[qname])):\n",
    "        nsname = nameservers[qname][i]\n",
    "        try:\n",
    "            answers = dns.resolver.query(nsname, 'A')\n",
    "        except dns.resolver.NXDOMAIN as e:\n",
    "            # the domain does not exist so dns resolutions remain empty\n",
    "            pass\n",
    "        except dns.resolver.NoNameservers as e:\n",
    "            # no nameservers are returned\n",
    "            pass\n",
    "        except dns.resolver.NoAnswer as e:\n",
    "            # the resolver is not answering so dns resolutions remain empty\n",
    "            pass\n",
    "\n",
    "        for rdata in answers:\n",
    "            ns_ips[qname].append(rdata.address)"
   ]
  },
  {
   "cell_type": "markdown",
   "metadata": {},
   "source": [
    "### Create a vector of features\n",
    "\n",
    "You should feel free to add your own features here."
   ]
  },
  {
   "cell_type": "code",
   "execution_count": 16,
   "metadata": {},
   "outputs": [
    {
     "name": "stdout",
     "output_type": "stream",
     "text": [
      "twitter.com 18 1 13414\n",
      "bit.ly 6 2 395224\n",
      "eonli.ne 2 2 395224\n",
      "www.nbcnews.com 2 1 20940\n",
      "finance.yahoo.com 2 1 10310\n",
      "www.dailywire.com 2 2 13335\n",
      "www.snappytv.com 2 3 16509\n",
      "www.yahoo.com 1 2 34010\n",
      "www.king5.com 1 1 11845\n",
      "www.bloomberg.com 1 1 54113\n",
      "www.abc15.com 1 4 16509\n",
      "cointelegraph.com 1 2 13335\n",
      "www.bbc.com 1 1 54113\n",
      "www.conservativereview.com 1 1 None\n",
      "www.mtv.com 1 1 20940\n",
      "washex.am 1 2 395224\n",
      "www.itv.com 1 1 37457\n",
      "news.vice.com 1 1 54113\n",
      "thehill.com 1 4 54113\n",
      "on.nfl.com 1 1 10913\n",
      "www.amazon.com 1 1 16509\n",
      "2wsb.tv 1 2 395224\n",
      "blbrd.cm 1 1 10913\n",
      "www.cbc.ca 1 1 11845\n",
      "trib.al 1 3 14618\n",
      "hill.cm 1 1 14618\n",
      "news.abs-cbn.com 1 2 13335\n",
      "www.myallies.com 1 1 6830\n",
      "www.theguardian.com 1 1 54113\n",
      "www.aninews.in 1 1 16509\n",
      "www.express.co.uk 1 4 None\n",
      "www.thehindu.com 1 1 20940\n",
      "vrscout.com 1 1 15169\n",
      "apple.news 1 1 16625\n",
      "www.news24.com 1 2 13335\n",
      "www.baltimoresun.com 1 1 20940\n",
      "a.msn.com 1 1 8068\n"
     ]
    }
   ],
   "source": [
    "for qname in ns_ips.keys():\n",
    "    for i in range(len(ips[qname])):\n",
    "        print(qname, domains[qname], len(ips[qname]), asndb.lookup(ips[qname][i])[0])\n",
    "        break"
   ]
  },
  {
   "cell_type": "markdown",
   "metadata": {},
   "source": [
    "### Get Some Fake News Labels\n",
    "\n",
    "I used the kaggle dataset, which you can obtain from here:\n",
    "https://github.com/bradmiro/fake_news_detector\n",
    "\n",
    "and quickly post-processed it with perl to get some domains:\n",
    "\n",
    "cut -f 10 -d ',' formatted_kaggle_training_data.csv | perl -e 'while (<>) {if ($_ =~ /^[a-z]*\\.(net|com|org)$/) {print \"$_\"}}' | uniq''"
   ]
  },
  {
   "cell_type": "code",
   "execution_count": 20,
   "metadata": {},
   "outputs": [],
   "source": [
    "fake = defaultdict(int)\n",
    "\n",
    "with open('./fake-news-urls.txt') as f:\n",
    "    for l in f.readlines():\n",
    "        fake[l.strip()] = 1\n",
    "        \n",
    "# add some examples from above for 'fake' from above\n",
    "fake['www.myallies.com'] = 1\n",
    "fake['www.conservativereview.com'] = 1"
   ]
  },
  {
   "cell_type": "code",
   "execution_count": 24,
   "metadata": {},
   "outputs": [
    {
     "name": "stdout",
     "output_type": "stream",
     "text": [
      "cnn:  0\n",
      "zerohedge:  1\n",
      "consiervativereview:  1\n"
     ]
    }
   ],
   "source": [
    "print(\"cnn: \" , fake['cnn.com'])\n",
    "print(\"zerohedge: \", fake['zerohedge.com'])\n",
    "print(\"consiervativereview: \", fake['www.conservativereview.com'])"
   ]
  },
  {
   "cell_type": "markdown",
   "metadata": {},
   "source": [
    "### Experiment with Simple Machine Learning"
   ]
  },
  {
   "cell_type": "code",
   "execution_count": 49,
   "metadata": {},
   "outputs": [],
   "source": [
    "from sklearn import linear_model\n",
    "import pandas as pd\n",
    "import numpy\n",
    "import warnings\n",
    "warnings.filterwarnings('ignore')"
   ]
  },
  {
   "cell_type": "code",
   "execution_count": 58,
   "metadata": {},
   "outputs": [],
   "source": [
    "x = numpy.array([]);\n",
    "y = numpy.array([]);\n",
    "for qname in ips.keys():\n",
    "    x = numpy.append(x, len(ips[qname]))\n",
    "    y = numpy.append(y,fake[qname])    "
   ]
  },
  {
   "cell_type": "code",
   "execution_count": 59,
   "metadata": {},
   "outputs": [],
   "source": [
    "logistic_regression = linear_model.LogisticRegression(C=50);\n",
    "logistic_regression.fit(x.reshape(-1,1), y);"
   ]
  },
  {
   "cell_type": "code",
   "execution_count": 65,
   "metadata": {},
   "outputs": [
    {
     "data": {
      "image/png": "[encoded data removed]",
      "text/plain": [
       "<Figure size 640x480 with 1 Axes>"
      ]
     },
     "metadata": {},
     "output_type": "display_data"
    }
   ],
   "source": [
    "z = np.arange(1, 5, 0.5).reshape(-1, 1);\n",
    "plt.plot(z, logistic_regression.predict_proba(z)[:, 1], color='green');\n",
    "plt.ylabel(\"Fake (1) or Real (0)\")\n",
    "plt.xlabel(\"Number of IPs\")\n",
    "plt.grid(linestyle='--', alpha=0.6)\n",
    "plt.show()"
   ]
  },
  {
   "cell_type": "markdown",
   "metadata": {},
   "source": [
    "## Lab Experiments\n",
    "\n",
    "1. What other features can you come up with/extract using Tweepy?\n",
    "2. Can you try using other classifiers?"
   ]
  }
 ],
 "metadata": {
  "kernelspec": {
   "display_name": "Python 3",
   "language": "python",
   "name": "python3"
  },
  "language_info": {
   "codemirror_mode": {
    "name": "ipython",
    "version": 3
   },
   "file_extension": ".py",
   "mimetype": "text/x-python",
   "name": "python",
   "nbconvert_exporter": "python",
   "pygments_lexer": "ipython3",
   "version": "3.7.1"
  }
 },
 "nbformat": 4,
 "nbformat_minor": 2
}
