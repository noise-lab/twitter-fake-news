{
 "cells": [
  {
   "cell_type": "markdown",
   "metadata": {},
   "source": [
    "## Import Tweets from JSON\n",
    "\n",
    "Import the Tweets that we captured using the RTweet Library.\n",
    "Note: This could also be done directly in Python using a library such as Tweepy."
   ]
  },
  {
   "cell_type": "code",
   "execution_count": 1,
   "metadata": {},
   "outputs": [],
   "source": [
    "import json\n",
    "from pprint import pprint\n",
    "\n",
    "with open('tweets.json') as f:\n",
    "    data = json.load(f)"
   ]
  },
  {
   "cell_type": "markdown",
   "metadata": {},
   "source": [
    "## Create Histogram of Common Domains in Tweets"
   ]
  },
  {
   "cell_type": "code",
   "execution_count": 2,
   "metadata": {},
   "outputs": [
    {
     "data": {
      "text/plain": [
       "<Figure size 640x480 with 1 Axes>"
      ]
     },
     "metadata": {},
     "output_type": "display_data"
    }
   ],
   "source": [
    "import re\n",
    "from collections import defaultdict\n",
    "\n",
    "import matplotlib\n",
    "import matplotlib.pyplot as plt\n",
    "import numpy as np\n",
    "\n",
    "\n",
    "domains = defaultdict(int)\n",
    "sorted_domains = list()\n",
    "sorted_counts = list()\n",
    "\n",
    "for d in data:\n",
    "    url = str(d[\"urls_expanded_url\"][0])\n",
    "    dom = re.match(r'http.*\\/\\/(.*?)\\/', url)\n",
    "    if dom:\n",
    "        domain = dom.group(1)\n",
    "        domains[domain] += 1\n",
    "\n",
    "        \n",
    "sdomains = sorted(domains, key=domains.get, reverse=True)\n",
    "\n",
    "for w in sdomains:\n",
    "    sorted_domains.append(w)\n",
    "    sorted_counts.append(domains[w])\n",
    "    # this will print all of the domains and their counts.\n",
    "    # the tail may be the most interesting part\n",
    "    # print w, domains[w]\n",
    "\n",
    "# plot the most popular domains that show up in URLs\n",
    "# plot shows only the top 10. domains has all of the counts\n",
    "\n",
    "x = sorted_domains[:10]\n",
    "y = sorted_counts[:10]\n",
    "\n",
    "plt.bar(x,y)\n",
    "plt.xticks(x, rotation='vertical')\n",
    "plt.show()"
   ]
  },
  {
   "cell_type": "markdown",
   "metadata": {},
   "source": [
    "## Explore Characteristics of Each Domain Name"
   ]
  },
  {
   "cell_type": "markdown",
   "metadata": {},
   "source": [
    "First we'll extract the following characteristics of the domain names in each Tweet:\n",
    "(1) The IP addresses that each domain resolves to\n",
    "(2) The DNS nameservers that each domain is authoritative for"
   ]
  },
  {
   "cell_type": "code",
   "execution_count": 3,
   "metadata": {},
   "outputs": [],
   "source": [
    "ips = dict()\n",
    "nameservers = dict()"
   ]
  },
  {
   "cell_type": "markdown",
   "metadata": {},
   "source": [
    "### A Record Lookup"
   ]
  },
  {
   "cell_type": "code",
   "execution_count": 4,
   "metadata": {},
   "outputs": [
    {
     "name": "stdout",
     "output_type": "stream",
     "text": [
      "104.244.42.65\n"
     ]
    }
   ],
   "source": [
    "# requires: dnspython library\n",
    "\n",
    "import dns.resolver\n",
    "\n",
    "# Lookup IP addresses / A Records of Domain Names\n",
    "for qname in sdomains:\n",
    "    ips[qname] = list()\n",
    "    \n",
    "    try:\n",
    "        answers = dns.resolver.query(qname, 'A')\n",
    "    except dns.resolver.NXDOMAIN as e:\n",
    "        # the domain does not exist so dns resolutions remain empty\n",
    "        pass\n",
    "    except dns.resolver.NoAnswer as e:\n",
    "        # the resolver is not answering so dns resolutions remain empty\n",
    "        pass\n",
    "\n",
    "    for rdata in answers:\n",
    "        #print qname, domains[qname], rdata.address\n",
    "        ips[qname].append(rdata.address)\n",
    "        \n",
    "print ips['twitter.com'][0]"
   ]
  },
  {
   "cell_type": "code",
   "execution_count": 5,
   "metadata": {},
   "outputs": [
    {
     "name": "stdout",
     "output_type": "stream",
     "text": [
      "{'www.wayamo.com': [u'129.121.176.228'], 'www.loyolaandnews.es': [u'91.192.110.199'], 'simplecast.com': [u'52.200.78.105', u'52.72.25.31', u'18.232.28.162', u'34.193.215.247', u'54.87.115.109', u'35.173.151.154'], 'nnd.ng': [u'54.213.66.64'], 'www.dispatchlive.co.za': [u'216.58.223.83'], 'www.thepresidency.gov.za': [u'41.0.5.139'], 'www.sabreakingnews.co.za': [u'104.199.94.19'], 'southerncourier.co.za': [u'104.24.11.33', u'104.24.10.33'], 'actionkingbest.blogspot.com': [u'216.58.223.97'], 'ift.tt': [u'67.199.248.13', u'67.199.248.12'], 'readinglist.click': [u'34.251.166.161'], 'theconversation.com': [u'151.101.2.110', u'151.101.194.110', u'151.101.66.110', u'151.101.130.110'], 'trib.al': [u'54.174.224.48', u'18.232.216.80', u'54.84.189.246'], 'blogs.worldbank.org': [u'104.17.187.11', u'104.17.188.11'], 'www.scmp.com': [u'47.89.56.101', u'103.206.40.111'], 'www.regularnews.net': [u'160.153.16.34'], 'www.flickr.com': [u'87.248.114.12', u'77.238.180.12', u'77.238.180.11', u'87.248.114.11'], 'yesafrika.wordpress.com': [u'192.0.78.12', u'192.0.78.13'], 'agendamagasin.no': [u'77.88.102.62'], 'www.alaraby.co.uk': [u'152.195.39.175'], 'africareportonbusiness.com': [u'216.38.0.164'], 'ghtube.com': [u'174.136.13.119'], 'm.health24.com': [u'41.86.110.194'], 'www.pscp.tv': [u'52.57.18.54', u'52.29.36.124'], 'townpress.co.za': [u'197.242.68.162'], 'www.causes.com': [u'104.24.30.25', u'104.24.31.25'], 'www.msn.com': [u'204.79.197.203'], 'www.farmersweekly.co.za': [u'129.232.249.28'], 'www.politicsweb.co.za': [u'41.215.233.178'], 'mogolodi.ancnorthwest.org': [u'197.242.146.184'], 'www.thepressradio.com': [u'160.153.129.235'], 'daneloo.com': [u'108.170.36.168'], 'www.sabcnews.com': [u'197.97.42.208'], 'www.alwihdainfo.com': [u'213.251.158.218', u'94.23.134.247'], 'nuus.info': [u'95.175.110.137'], 'www.cnbcafrica.com': [u'104.25.252.111', u'104.25.251.111'], 'letabaherald.co.za': [u'104.25.185.25', u'104.25.184.25'], 'businesstech.co.za': [u'104.25.46.18', u'104.25.47.18'], 'm.news24.com': [u'41.86.110.194'], 'www.theglobeandmail.com': [u'2.21.98.73', u'2.21.98.75'], 'citizen.co.za': [u'104.25.103.22', u'104.25.102.22'], 'lowvelder.co.za': [u'104.25.216.15', u'104.25.217.15'], 'www.sport24.co.za': [u'41.86.110.245'], 'khalilhumam.com': [u'107.154.166.164', u'107.154.159.164'], 'africachinapresscentre.org': [u'146.66.67.212'], 'www.artlink.co.za': [u'41.204.200.25'], 'www.dailymaverick.co.za': [u'35.195.96.79'], 'www.google.com': [u'216.58.223.4'], 'www.bloomberg.com': [u'23.45.74.137'], 'www.power987.co.za': [u'41.203.18.1'], 'www.news24.com': [u'41.86.110.200'], 'ow.ly': [u'54.67.57.56', u'54.183.131.91', u'54.183.132.164', u'54.67.120.65', u'54.183.130.144', u'54.67.62.204'], 'curiouscat.me': [u'104.20.91.149', u'104.20.92.149'], 'ulinkd.com': [u'173.205.125.228'], 'search.app.goo.gl': [u'216.58.223.14'], 'maroelamedia.co.za': [u'104.20.142.61', u'104.20.143.61'], 'pressreader.com': [u'107.154.111.111', u'107.154.103.111'], 'bloom.bg': [u'67.199.248.12', u'67.199.248.13'], 'www.ipan.co.za': [u'197.242.144.172'], 'nanb.co.za': [u'109.228.49.57'], 'youtu.be': [u'216.58.223.46'], 'briefly.co.za': [u'52.22.180.191', u'52.73.120.105'], 'www.africa-confidential.com': [u'51.140.99.108'], 'www.evalex.com': [u'41.223.9.12'], 'radioalansaar.co.za': [u'180.235.129.197'], 'protectourchildren.co.za': [u'104.24.122.88', u'104.24.123.88'], 'm.huffingtonpost.co.za': [u'152.195.52.203'], 'www.ghanaiannews.ca': [u'192.169.249.233'], 'investingmatters.co.za': [u'196.41.123.141'], 'www.4-traders.com': [u'104.24.106.239', u'104.24.107.239'], 'www.isolezwe.co.za': [u'104.28.30.240', u'104.28.31.240'], 'go.shr.lc': [u'67.199.248.12', u'67.199.248.13'], 'news360.com': [u'67.21.6.78'], 'www.caribbeannews.net': [u'143.204.19.38', u'143.204.19.187', u'143.204.19.55', u'143.204.19.7'], 'amp.ewn.co.za': [u'151.101.172.204'], 'www.hinnews.com': [u'104.27.135.218', u'104.27.134.218'], 'www.youtube.com': [u'216.58.223.14', u'216.58.223.46'], 'www.africanpoliticsandpolicy.com': [u'176.31.107.180'], 'thepatriot.co.za': [u'156.38.138.186'], 'bd': [u'156.38.138.186'], 'www.timesofearth.com': [u'37.148.207.1'], 'www.findallnews.co.za': [u'169.239.217.11'], 'tdy.ng': [u'54.213.66.64'], 'anctoday.org.za': [u'129.232.138.109'], 'independent.ng': [u'192.124.249.7'], 'joburgeastexpress.co.za': [u'104.25.35.28', u'104.25.34.28'], 'sundayexpress.co.ls': [u'154.0.171.78'], 'pltwps.it': [u'5.196.82.198'], 'www.zerohedge.com': [u'35.227.58.252'], 'www.biznews.com': [u'104.25.36.22', u'104.25.37.22'], 'africatimes.com': [u'213.186.33.151'], 'irr.org.za': [u'176.9.137.238'], 'ht.ly': [u'54.67.62.204', u'54.183.130.144', u'54.183.132.164', u'54.67.120.65', u'54.67.57.56', u'54.183.131.91'], 'junutalk.com': [u'146.66.66.112'], 'mg.co.za': [u'104.18.32.252', u'104.18.33.252'], 'is.gd': [u'104.31.15.172', u'104.31.14.172'], 'flip.it': [u'52.5.25.216', u'54.86.41.41'], 'ramaphosa.org.za': [u'129.232.249.177'], 'www.agenceecofin.com': [u'87.98.168.36'], 'www.chabad.org': [u'199.26.225.26'], 'www.health-e.org.za': [u'138.201.51.48'], 'bitroot.co.za': [u'41.185.8.76'], 'www.gov.za': [u'164.151.129.20'], 'www.gt-mag.co.za': [u'38.18.228.192'], 's.einnews.com': [u'173.203.107.239', u'173.203.107.183'], 'baywindows.com': [u'54.86.35.197'], 'qoo.ly': [u'173.193.137.3'], 'm.fin24.com': [u'41.86.110.194'], 'ceoafrica.com': [u'192.145.237.136'], 'www.occuworld.org': [u'70.85.146.24'], 'www.netwerk24.com': [u'41.86.110.132'], 'www.azaniapost.com': [u'212.68.56.154'], 'lsh.re': [u'104.24.14.26', u'104.24.15.26'], 'enterprisetv.tv': [u'68.65.120.201'], 'en.wikipedia.org': [u'91.198.174.192'], 'www.nigeriatoday.ng': [u'104.27.132.59', u'104.27.133.59'], 'mybroadband.co.za': [u'104.20.9.169', u'104.20.10.169'], 'www.nytimes.com': [u'151.101.173.164'], 'www.environmentguru.com': [u'13.35.58.41', u'13.35.58.136', u'13.35.58.188', u'13.35.58.159'], 'www.africanews24-7.co.za': [u'34.211.246.14'], 'new.sajr.co.za': [u'197.242.157.99'], 'twitter.com': [u'104.244.42.65', u'104.244.42.129'], 'www.newspulseonline.com': [u'197.242.150.39'], 'nyti.ms': [u'67.199.248.13', u'67.199.248.12'], 'www.sarugbymag.co.za': [u'104.28.10.19', u'104.28.11.19'], 'www.instagram.com': [u'157.240.1.37'], 'free-mail.co.za': [u'162.247.78.230'], 'www.nationalgossipblog.com': [u'160.153.137.20'], 'africanbrains.net': [u'185.26.149.115'], 'www.sanews.gov.za': [u'164.151.129.19'], 'newsbru.com': [u'45.77.59.142'], 'ourworld.unu.edu': [u'202.253.138.148'], 'www.thesouthafrican.com': [u'151.101.174.207'], 'southafricatoday.net': [u'104.27.137.44', u'104.27.136.44'], 'twib.in': [u'104.28.21.246', u'104.28.20.246'], 'www.ceoafrica.com': [u'192.145.237.136'], 'soundcloud.com': [u'13.35.59.41', u'13.35.59.37', u'13.35.59.52', u'13.35.59.61'], 'www.chinaafricaproject.com': [u'69.195.124.173'], 'primeviewtv.com': [u'209.124.74.109'], 'allafrica.com': [u'173.203.36.104'], 'www.facebook.com': [u'157.240.1.38'], 'www.zulusound.com': [u'104.18.53.63', u'104.18.52.63'], 'goo.gl': [u'216.58.223.14'], 'politicoscope.com': [u'82.223.26.114'], 'www.enca.com': [u'197.189.218.234', u'197.189.242.178'], 'www.iol.co.za': [u'104.20.97.21', u'104.20.96.21'], 'city-press.news24.com': [u'41.86.110.222'], 'www.cyrilramaphosafoundation.org': [u'41.77.48.95'], 'www.da.org.za': [u'34.246.94.179', u'54.194.152.6', u'54.171.20.71', u'52.49.103.24', u'34.248.164.131', u'34.243.188.61', u'54.76.58.198', u'54.229.165.195'], 'www.ifri.org': [u'89.31.146.49'], 'comarochronicle.co.za': [u'104.25.252.9', u'104.25.253.9'], 'tinyurl.com': [u'104.20.219.42', u'104.20.218.42'], 'weeklyxpose.co.za': [u'129.232.138.109'], 'dlvr.it': [u'34.218.108.232'], 'www.goodthingsguy.com': [u'154.0.164.49'], 'huffp.st': [u'184.73.156.246'], 'nehandaradio.com': [u'104.25.126.117', u'104.25.125.117'], 'af.reuters.com': [u'13.35.58.217', u'13.35.58.248', u'13.35.58.181', u'13.35.58.57'], 'www.ehowzit.co.za': [u'41.185.26.155'], 'www.reddit.com': [u'151.101.173.140'], 'www.huffingtonpost.co.za': [u'152.195.52.203'], 'bedfordviewedenvalenews.co.za': [u'104.27.25.41', u'104.27.24.41'], 'therepublicmail.co.za': [u'154.0.168.252'], 'a.msn.com': [u'204.79.197.203'], 'ewn.co.za': [u'151.101.64.204', u'151.101.0.204', u'151.101.192.204', u'151.101.128.204'], 'www.baywindows.com': [u'54.86.35.197'], 'www.tshirtterrorist.co.za': [u'164.160.91.11'], 'www.thegatewaypundit.com': [u'104.23.99.174', u'104.23.98.174'], 'www.thetrumpet.com': [u'66.210.182.129'], 'm.polity.org.za': [u'154.0.12.106'], 'za.trendwiki.co': [u'178.79.165.181'], 'buff.ly': [u'67.199.248.13', u'67.199.248.12'], 'www.dailysun.co.za': [u'41.86.110.131'], 'www.moneyweb.co.za': [u'104.25.199.105', u'104.25.200.105'], 'www.kooderadio.com': [u'50.116.80.127'], 'thecolonialchronicle.com': [u'107.180.40.196'], 'bit.ly': [u'67.199.248.11', u'67.199.248.10'], 'www.salabournews.co.za': [u'41.185.64.93'], 'www.africantimesnews.co.za': [u'134.19.191.12'], 'news365.co.za': [u'104.27.169.100', u'104.27.168.100'], 'www.thedailyvox.co.za': [u'197.96.136.118'], 'www.timeslive.co.za': [u'216.58.223.83'], 'zimsinsa.com': [u'41.185.8.122'], 'albertonrecord.co.za': [u'104.24.14.104', u'104.24.13.104'], 'lnkd.in': [u'108.174.10.10'], 'www.businesslive.co.za': [u'216.58.223.83'], 'www.groundup.org.za': [u'31.170.123.7'], 'southafrica.trendolizer.com': [u'37.48.80.4'], 'www.africanews.it': [u'89.46.106.88'], 'www.libertylawsite.org': [u'104.155.132.212'], 'www.proshareng.com': [u'74.208.43.146'], 'www.utrikesmagasinet.se': [u'91.212.209.225'], 'www.fin24.com': [u'41.86.110.201'], 'www.702.co.za': [u'41.168.20.236'], 'mype.co.za': [u'162.247.78.230'], 'www.independent.co.uk': [u'151.101.173.184'], 'sco.lt': [u'185.94.140.20'], 'africannewsagency.com': [u'34.241.222.26', u'52.215.18.21'], 'sa-news.com': [u'95.175.110.137'], 'blog.outtakeonline.com': [u'216.58.223.83'], 'select.timeslive.co.za': [u'216.239.34.21', u'216.239.36.21', u'216.239.32.21', u'216.239.38.21'], 'profmoosa.wordpress.com': [u'192.0.78.12', u'192.0.78.13']}\n"
     ]
    }
   ],
   "source": [
    "# dictionary of all of the DNS domain names -> IP addresses that host the websites\n",
    "print ips"
   ]
  },
  {
   "cell_type": "markdown",
   "metadata": {},
   "source": [
    "### NS Record Lookup"
   ]
  },
  {
   "cell_type": "code",
   "execution_count": 8,
   "metadata": {},
   "outputs": [],
   "source": [
    "# Lookup NS Records for Each Domain Name\n",
    "\n",
    "for qname in sdomains:\n",
    "    nameservers[qname] = list()\n",
    "    \n",
    "    try:\n",
    "        answer = dns.resolver.query(qname, 'NS', raise_on_no_answer=False)\n",
    "    except dns.resolver.NXDOMAIN as e:\n",
    "        # the domain does not exist so dns resolutions remain empty\n",
    "        pass\n",
    "    except dns.resolver.NoAnswer as e:\n",
    "        # the resolver is not answering so dns resolutions remain empty\n",
    "        pass\n",
    "    \n",
    "    if answer.rrset is not None:        \n",
    "        for ns in answer.rrset.items:\n",
    "              fqdn = ns.to_text().upper()\n",
    "              nameservers[qname].append(fqdn)"
   ]
  },
  {
   "cell_type": "code",
   "execution_count": 9,
   "metadata": {},
   "outputs": [
    {
     "name": "stdout",
     "output_type": "stream",
     "text": [
      "{'www.wayamo.com': ['NS1.ASMALLORANGE.COM.', 'NS2.ASMALLORANGE.COM.'], 'www.loyolaandnews.es': ['DNS3.HISPALISDNS.COM.', 'DNS2.HISPALISDNS.COM.', 'DNS1.HISPALISDNS.COM.'], 'simplecast.com': ['NS-1055.AWSDNS-03.ORG.', 'NS-435.AWSDNS-54.COM.', 'NS-1649.AWSDNS-14.CO.UK.', 'NS-714.AWSDNS-25.NET.'], 'nnd.ng': ['ASA.NS.CLOUDFLARE.COM.', 'AMIT.NS.CLOUDFLARE.COM.'], 'www.dispatchlive.co.za': [], 'www.thepresidency.gov.za': [], 'www.sabreakingnews.co.za': [], 'southerncourier.co.za': ['LISA.NS.CLOUDFLARE.COM.', 'THOMAS.NS.CLOUDFLARE.COM.'], 'actionkingbest.blogspot.com': [], 'ift.tt': ['NS-60.AWSDNS-07.COM.', 'NS-1876.AWSDNS-42.CO.UK.', 'NS-1195.AWSDNS-21.ORG.', 'NS-901.AWSDNS-48.NET.'], 'readinglist.click': ['NS06.DOMAINCONTROL.COM.', 'NS05.DOMAINCONTROL.COM.'], 'theconversation.com': ['NS1.DNSUNLIMITED.COM.', 'NS4.DNSIMPLE.COM.', 'NS1.DNSIMPLE.COM.', 'NS2.DNSIMPLE.COM.', 'NS5.DNSUNLIMITED.COM.', 'NS3.DNSIMPLE.COM.'], 'trib.al': ['NS-637.AWSDNS-15.NET.', 'NS-1190.AWSDNS-20.ORG.', 'NS-466.AWSDNS-58.COM.', 'NS-1885.AWSDNS-43.CO.UK.'], 'blogs.worldbank.org': [], 'www.scmp.com': [], 'www.regularnews.net': ['NS70.DOMAINCONTROL.COM.', 'NS69.DOMAINCONTROL.COM.'], 'www.flickr.com': [], 'yesafrika.wordpress.com': [], 'agendamagasin.no': ['NS2.HYP.NET.', 'NS1.HYP.NET.', 'NS3.HYP.NET.'], 'www.alaraby.co.uk': [], 'africareportonbusiness.com': ['EU.SOLIDHOSTING.PRO.', 'IN.SOLIDHOSTING.PRO.'], 'ghtube.com': ['NS2.CIRTEXHOSTING.COM.', 'NS1.CIRTEXHOSTING.COM.'], 'm.health24.com': [], 'www.pscp.tv': [], 'townpress.co.za': ['NS1.NATIVITYCONCEPTS.CO.ZA.', 'NS2.NATIVITYCONCEPTS.CO.ZA.'], 'www.causes.com': [], 'www.msn.com': [], 'www.farmersweekly.co.za': [], 'www.politicsweb.co.za': [], 'mogolodi.ancnorthwest.org': [], 'www.thepressradio.com': ['NS26.DOMAINCONTROL.COM.', 'NS25.DOMAINCONTROL.COM.'], 'daneloo.com': ['NS2.STYLES7.COM.', 'NS1.STYLES7.COM.'], 'www.sabcnews.com': [], 'www.alwihdainfo.com': [], 'nuus.info': ['DNS3.SUPREMEDNS.COM.', 'DNS4.SUPREMEDNS.COM.', 'DNS1.SUPREMEDNS.COM.', 'DNS2.SUPREMEDNS.COM.'], 'www.cnbcafrica.com': [], 'letabaherald.co.za': ['LISA.NS.CLOUDFLARE.COM.', 'THOMAS.NS.CLOUDFLARE.COM.'], 'businesstech.co.za': ['WILL.NS.CLOUDFLARE.COM.', 'DORTHY.NS.CLOUDFLARE.COM.'], 'm.news24.com': [], 'www.theglobeandmail.com': [], 'citizen.co.za': ['MAY.NS.CLOUDFLARE.COM.', 'MARK.NS.CLOUDFLARE.COM.'], 'lowvelder.co.za': ['THOMAS.NS.CLOUDFLARE.COM.', 'LISA.NS.CLOUDFLARE.COM.'], 'www.sport24.co.za': [], 'khalilhumam.com': ['NS2.BLUEHOST.COM.', 'NS1.BLUEHOST.COM.'], 'africachinapresscentre.org': ['NS1.SITEGROUND278.COM.', 'NS2.SITEGROUND278.COM.'], 'www.artlink.co.za': [], 'www.dailymaverick.co.za': [], 'www.google.com': [], 'www.bloomberg.com': [], 'www.power987.co.za': [], 'www.news24.com': [], 'ow.ly': ['NS-1454.AWSDNS-53.ORG.', 'NS-1603.AWSDNS-08.CO.UK.', 'NS-795.AWSDNS-35.NET.', 'NS-133.AWSDNS-16.COM.'], 'curiouscat.me': ['BRUCE.NS.CLOUDFLARE.COM.', 'LANA.NS.CLOUDFLARE.COM.'], 'ulinkd.com': ['NS2.INMOTIONHOSTING.COM.', 'NS1.INMOTIONHOSTING.COM.'], 'search.app.goo.gl': [], 'maroelamedia.co.za': ['ALEXIS.NS.CLOUDFLARE.COM.', 'DEE.NS.CLOUDFLARE.COM.'], 'pressreader.com': ['NS2.NEWSPAPERDIRECT.COM.', 'NS3.NEWSPAPERDIRECT.COM.'], 'bloom.bg': ['PDNS3.ULTRADNS.ORG.', 'A2.VERISIGNDNS.COM.', 'PDNS1.ULTRADNS.NET.', 'PDNS5.ULTRADNS.INFO.', 'A1.VERISIGNDNS.COM.', 'A3.VERISIGNDNS.COM.'], 'www.ipan.co.za': [], 'nanb.co.za': ['NS-UK.1AND1-DNS.COM.', 'NS-UK.1AND1-DNS.CO.UK.', 'NS-UK.1AND1-DNS.BIZ.', 'NS-UK.1AND1-DNS.ORG.'], 'youtu.be': ['NS3.GOOGLE.COM.', 'NS2.GOOGLE.COM.', 'NS4.GOOGLE.COM.', 'NS1.GOOGLE.COM.'], 'briefly.co.za': ['ASA.NS.CLOUDFLARE.COM.', 'NEWT.NS.CLOUDFLARE.COM.'], 'www.africa-confidential.com': [], 'www.evalex.com': [], 'radioalansaar.co.za': ['NS1.ALLINIT.NET.AU.', 'NS2.ALLINIT.NET.AU.'], 'protectourchildren.co.za': ['RUDY.NS.CLOUDFLARE.COM.', 'ROSA.NS.CLOUDFLARE.COM.'], 'm.huffingtonpost.co.za': [], 'www.ghanaiannews.ca': ['NS62.DOMAINCONTROL.COM.', 'NS61.DOMAINCONTROL.COM.'], 'investingmatters.co.za': ['NS2.MYWEBSERVER.CO.ZA.', 'NS3.MYWEBSERVER.CO.ZA.', 'NS1.MYWEBSERVER.CO.ZA.'], 'www.4-traders.com': [], 'www.isolezwe.co.za': [], 'go.shr.lc': [], 'news360.com': ['NS1.NEWS360.COM.', 'NS2.NEWS360.COM.'], 'www.caribbeannews.net': ['NS-417.AWSDNS-52.COM.', 'NS-760.AWSDNS-31.NET.', 'NS-1301.AWSDNS-34.ORG.', 'NS-1893.AWSDNS-44.CO.UK.'], 'amp.ewn.co.za': [], 'www.hinnews.com': [], 'www.youtube.com': [], 'www.africanpoliticsandpolicy.com': ['NS200.ANYCAST.ME.', 'DNS200.ANYCAST.ME.'], 'thepatriot.co.za': ['NS1.AMPLEDNS.COM.', 'NS2.AMPLEDNS.COM.'], 'bd': ['NS1.AMPLEDNS.COM.', 'NS2.AMPLEDNS.COM.'], 'www.timesofearth.com': [], 'www.findallnews.co.za': ['NS3.CPNS.CO.ZA.', 'NS2.CPNS.CO.ZA.', 'NS4.CPNS.CO.ZA.', 'NS1.CPNS.CO.ZA.'], 'tdy.ng': ['AMIT.NS.CLOUDFLARE.COM.', 'ASA.NS.CLOUDFLARE.COM.'], 'anctoday.org.za': ['NS1.TLD-NS.COM.', 'NS2.TLD-NS.NET.', 'NS4.TLD-NS.NET.', 'NS3.TLD-NS.COM.'], 'independent.ng': ['NS2.INMOTIONHOSTING.COM.', 'NS.INMOTIONHOSTING.COM.'], 'joburgeastexpress.co.za': ['THOMAS.NS.CLOUDFLARE.COM.', 'LISA.NS.CLOUDFLARE.COM.'], 'sundayexpress.co.ls': ['NS.DNS1.CO.ZA.', 'NS.OTHERDNS.COM.', 'NS.DNS2.CO.ZA.', 'NS.OTHERDNS.NET.'], 'pltwps.it': ['NS0.TRANSIP.NET.', 'NS1.TRANSIP.NL.', 'NS2.TRANSIP.EU.'], 'www.zerohedge.com': ['DNS3.EASYDNS.ORG.', 'DNS1.EASYDNS.COM.', 'DNS2.EASYDNS.NET.', 'DNS4.EASYDNS.INFO.'], 'www.biznews.com': [], 'africatimes.com': ['DNS14.OVH.NET.', 'NS14.OVH.NET.'], 'irr.org.za': ['NS2.DATAPRO.CO.ZA.', 'NS3.DATAPRO.CO.ZA.', 'NS1.DATAPRO.CO.ZA.'], 'ht.ly': ['NS-153.AWSDNS-19.COM.', 'NS-982.AWSDNS-58.NET.', 'NS-1866.AWSDNS-41.CO.UK.', 'NS-1087.AWSDNS-07.ORG.'], 'junutalk.com': ['NS1.SITEGROUND193.COM.', 'NS2.SITEGROUND193.COM.'], 'mg.co.za': ['ZARA.NS.CLOUDFLARE.COM.', 'MATT.NS.CLOUDFLARE.COM.'], 'is.gd': ['ANDY.NS.CLOUDFLARE.COM.', 'COCO.NS.CLOUDFLARE.COM.'], 'flip.it': ['NS-979.AWSDNS-58.NET.', 'NS-1651.AWSDNS-14.CO.UK.', 'NS-1208.AWSDNS-23.ORG.', 'NS-291.AWSDNS-36.COM.'], 'ramaphosa.org.za': ['NS1.HOST-H.NET.', 'NS2.HOST-H.NET.', 'NS1.DNS-H.COM.', 'NS2.DNS-H.COM.'], 'www.agenceecofin.com': ['NS-132-A.GANDI.NET.', 'NS-233-B.GANDI.NET.', 'NS-158-C.GANDI.NET.'], 'www.chabad.org': [], 'www.health-e.org.za': [], 'bitroot.co.za': ['CDNS1.CPT.WA.CO.ZA.', 'CDNS2.CPT.WA.CO.ZA.'], 'www.gov.za': [], 'www.gt-mag.co.za': [], 's.einnews.com': [], 'baywindows.com': ['NS96.WORLDNIC.COM.', 'NS95.WORLDNIC.COM.'], 'qoo.ly': ['NS2.101DOMAIN.COM.', 'NS1.101DOMAIN.COM.', 'NS5.101DOMAIN.COM.'], 'm.fin24.com': [], 'ceoafrica.com': ['NS.INMOTIONHOSTING.COM.', 'NS2.INMOTIONHOSTING.COM.'], 'www.occuworld.org': ['NS26.DOMAINCONTROL.COM.', 'NS25.DOMAINCONTROL.COM.'], 'www.netwerk24.com': [], 'www.azaniapost.com': ['NS19.TEBILISIM.COM.', 'NS20.TEBILISIM.COM.'], 'lsh.re': ['ANDY.NS.CLOUDFLARE.COM.', 'SARA.NS.CLOUDFLARE.COM.'], 'enterprisetv.tv': ['DNS1.NAMECHEAPHOSTING.COM.', 'DNS2.NAMECHEAPHOSTING.COM.'], 'en.wikipedia.org': [], 'www.nigeriatoday.ng': [], 'mybroadband.co.za': ['WILL.NS.CLOUDFLARE.COM.', 'DORTHY.NS.CLOUDFLARE.COM.'], 'www.nytimes.com': [], 'www.environmentguru.com': [], 'www.africanews24-7.co.za': ['MAIN.NAMESERVER2.CO.ZA.', 'MAIN.NAMESERVER1.CO.ZA.', 'MAIN.NAMESERVER3.CO.ZA.', 'MAIN.NAMESERVER4.CO.ZA.'], 'new.sajr.co.za': [], 'twitter.com': ['NS1.P34.DYNECT.NET.', 'R01-02.NS.TWTRDNS.NET.', 'D01-01.NS.TWTRDNS.NET.', 'NS4.P34.DYNECT.NET.', 'A.R06.TWTRDNS.NET.', 'NS3.P34.DYNECT.NET.', 'R01-01.NS.TWTRDNS.NET.', 'NS2.P34.DYNECT.NET.', 'D01-02.NS.TWTRDNS.NET.'], 'www.newspulseonline.com': ['NS.DNS2.CO.ZA.', 'NS.OTHERDNS.NET.', 'NS.DNS1.CO.ZA.', 'NS.OTHERDNS.COM.'], 'nyti.ms': ['NS1.P24.DYNECT.NET.', 'NS4.P24.DYNECT.NET.', 'NS3.P24.DYNECT.NET.', 'NS2.P24.DYNECT.NET.'], 'www.sarugbymag.co.za': [], 'www.instagram.com': [], 'free-mail.co.za': ['NS1.NSPE.NET.', 'NS2.NSPE.NET.'], 'www.nationalgossipblog.com': ['NS50.DOMAINCONTROL.COM.', 'NS49.DOMAINCONTROL.COM.'], 'africanbrains.net': ['NS1.AFRICANBRAINS-DNS.CO.UK.', 'NS2.AFRICANBRAINS-DNS.CO.UK.'], 'www.sanews.gov.za': [], 'newsbru.com': ['NS1.VULTR.COM.', 'NS2.VULTR.COM.'], 'ourworld.unu.edu': [], 'www.thesouthafrican.com': [], 'southafricatoday.net': ['APRIL.NS.CLOUDFLARE.COM.', 'ELLIOT.NS.CLOUDFLARE.COM.'], 'twib.in': ['NINA.NS.CLOUDFLARE.COM.', 'IAN.NS.CLOUDFLARE.COM.'], 'www.ceoafrica.com': ['NS.INMOTIONHOSTING.COM.', 'NS2.INMOTIONHOSTING.COM.'], 'soundcloud.com': ['NS-1659.AWSDNS-15.CO.UK.', 'NS-451.AWSDNS-56.COM.', 'NS-1303.AWSDNS-34.ORG.', 'NS1.P20.DYNECT.NET.', 'NS3.P20.DYNECT.NET.', 'NS2.P20.DYNECT.NET.', 'NS-646.AWSDNS-16.NET.', 'NS4.P20.DYNECT.NET.'], 'www.chinaafricaproject.com': ['NS1.BLUEHOST.COM.', 'NS2.BLUEHOST.COM.'], 'primeviewtv.com': ['NS2091247411.A2DNS.COM.', 'NS20912474109.A2DNS.COM.'], 'allafrica.com': ['NS.RACKSPACE.COM.', 'NS2.RACKSPACE.COM.'], 'www.facebook.com': [], 'www.zulusound.com': [], 'goo.gl': ['NS4.GOOGLE.COM.', 'NS2.GOOGLE.COM.', 'NS3.GOOGLE.COM.', 'NS1.GOOGLE.COM.'], 'politicoscope.com': ['NS1016.UI-DNS.ORG.', 'NS1016.UI-DNS.BIZ.', 'NS1016.UI-DNS.COM.', 'NS1016.UI-DNS.DE.'], 'www.enca.com': ['NS-1653.AWSDNS-14.CO.UK.', 'NS-273.AWSDNS-34.COM.', 'NS-982.AWSDNS-58.NET.', 'NS-1237.AWSDNS-26.ORG.'], 'www.iol.co.za': [], 'city-press.news24.com': [], 'www.cyrilramaphosafoundation.org': ['NS1.HOSTED.BZ.', 'NS5.HOSTED.BZ.', 'NS2.HOSTED.BZ.'], 'www.da.org.za': [], 'www.ifri.org': [], 'comarochronicle.co.za': ['THOMAS.NS.CLOUDFLARE.COM.', 'LISA.NS.CLOUDFLARE.COM.'], 'tinyurl.com': ['CONSTITUTION.NS.TINYURL.COM.', 'LIBERTY.NS.TINYURL.COM.', 'FREEDOM.NS.TINYURL.COM.', 'REVOLUTION.NS.TINYURL.COM.'], 'weeklyxpose.co.za': ['NS2.DNS-H.COM.', 'NS2.HOST-H.NET.', 'NS1.HOST-H.NET.', 'NS1.DNS-H.COM.'], 'dlvr.it': ['NS-772.AWSDNS-32.NET.', 'NS-1257.AWSDNS-29.ORG.', 'NS-1956.AWSDNS-52.CO.UK.', 'NS-43.AWSDNS-05.COM.'], 'www.goodthingsguy.com': [], 'huffp.st': ['PDNS120.ULTRADNS.NET.', 'PDNS120.ULTRADNS.BIZ.', 'NS4.P132.DYNECT.NET.', 'NS1.P132.DYNECT.NET.', 'NS2.P132.DYNECT.NET.', 'NS3.P132.DYNECT.NET.', 'PDNS120.ULTRADNS.COM.', 'PDNS120.ULTRADNS.ORG.'], 'nehandaradio.com': ['KURT.NS.CLOUDFLARE.COM.', 'CASS.NS.CLOUDFLARE.COM.'], 'af.reuters.com': [], 'www.ehowzit.co.za': ['CDNS1.CPT.WA.CO.ZA.', 'CDNS2.CPT.WA.CO.ZA.'], 'www.reddit.com': [], 'www.huffingtonpost.co.za': [], 'bedfordviewedenvalenews.co.za': ['LISA.NS.CLOUDFLARE.COM.', 'THOMAS.NS.CLOUDFLARE.COM.'], 'therepublicmail.co.za': ['NS.OTHERDNS.NET.', 'NS.OTHERDNS.COM.', 'NS.DNS2.CO.ZA.', 'NS.DNS1.CO.ZA.'], 'a.msn.com': [], 'ewn.co.za': ['JUPITER.IS.CO.ZA.', 'TITAN.IS.CO.ZA.', 'DEMETER.IS.CO.ZA.'], 'www.baywindows.com': [], 'www.tshirtterrorist.co.za': ['NS3.ZA-DNS.COM.', 'NS5.ZA-DNS.COM.'], 'www.thegatewaypundit.com': [], 'www.thetrumpet.com': [], 'm.polity.org.za': [], 'za.trendwiki.co': [], 'buff.ly': ['NS-766.AWSDNS-31.NET.', 'NS-1435.AWSDNS-51.ORG.', 'NS-1542.AWSDNS-00.CO.UK.', 'NS-372.AWSDNS-46.COM.'], 'www.dailysun.co.za': [], 'www.moneyweb.co.za': [], 'www.kooderadio.com': ['NS2.BLUEHOST.COM.', 'NS1.BLUEHOST.COM.'], 'thecolonialchronicle.com': ['NS35.DOMAINCONTROL.COM.', 'NS36.DOMAINCONTROL.COM.'], 'bit.ly': ['NS-CLOUD-C2.GOOGLEDOMAINS.COM.', 'NS-276.AWSDNS-34.COM.', 'NS-1372.AWSDNS-43.ORG.', 'NS-CLOUD-C1.GOOGLEDOMAINS.COM.', 'NS-705.AWSDNS-24.NET.', 'NS-1766.AWSDNS-28.CO.UK.', 'NS-CLOUD-C3.GOOGLEDOMAINS.COM.', 'NS-CLOUD-C4.GOOGLEDOMAINS.COM.'], 'www.salabournews.co.za': ['VPSNS1.CPT.WA.CO.ZA.', 'VPSNS2.CPT.WA.CO.ZA.'], 'www.africantimesnews.co.za': ['NS1.WEBSPACEBAR.CO.ZA.', 'NS4.WEBSPACEBAR.CO.ZA.', 'NS2.WEBSPACEBAR.CO.ZA.', 'NS3.WEBSPACEBAR.CO.ZA.'], 'news365.co.za': ['CASH.NS.CLOUDFLARE.COM.', 'LIV.NS.CLOUDFLARE.COM.'], 'www.thedailyvox.co.za': ['NS2.ISIGNITE.CO.ZA.', 'NS1.ISIGNITE.CO.ZA.', 'NS4.ISIGNITE.CO.ZA.', 'NS3.ISIGNITE.CO.ZA.'], 'www.timeslive.co.za': [], 'zimsinsa.com': ['NS1.HOSTSERV.CO.ZA.', 'NS2.HOSTSERV.CO.ZA.'], 'albertonrecord.co.za': ['LISA.NS.CLOUDFLARE.COM.', 'THOMAS.NS.CLOUDFLARE.COM.'], 'lnkd.in': ['NS3.P43.DYNECT.NET.', 'DNS4.P09.NSONE.NET.', 'DNS1.P09.NSONE.NET.', 'NS2.P43.DYNECT.NET.', 'DNS2.P09.NSONE.NET.', 'NS1.P43.DYNECT.NET.', 'DNS3.P09.NSONE.NET.', 'NS4.P43.DYNECT.NET.'], 'www.businesslive.co.za': [], 'www.groundup.org.za': [], 'southafrica.trendolizer.com': [], 'www.africanews.it': [], 'www.libertylawsite.org': [], 'www.proshareng.com': [], 'www.utrikesmagasinet.se': [], 'www.fin24.com': [], 'www.702.co.za': [], 'mype.co.za': ['NS1.NSPE.NET.', 'NS2.NSPE.NET.'], 'www.independent.co.uk': [], 'sco.lt': ['A.DNS.GANDI.NET.', 'B.DNS.GANDI.NET.', 'C.DNS.GANDI.NET.'], 'africannewsagency.com': ['NS-1424.AWSDNS-50.ORG.', 'NS-1672.AWSDNS-17.CO.UK.', 'NS-883.AWSDNS-46.NET.', 'NS-7.AWSDNS-00.COM.'], 'sa-news.com': ['DNS2.SUPREMEDNS.COM.', 'DNS3.SUPREMEDNS.COM.', 'DNS1.SUPREMEDNS.COM.', 'DNS4.SUPREMEDNS.COM.'], 'blog.outtakeonline.com': [], 'select.timeslive.co.za': [], 'profmoosa.wordpress.com': []}\n"
     ]
    }
   ],
   "source": [
    "# dictionary of all of the DNS domain names -> DNS Namservers\n",
    "print nameservers"
   ]
  },
  {
   "cell_type": "markdown",
   "metadata": {},
   "source": [
    "### Map Each IP Address to its corresponding ISP (AS Number) and Country"
   ]
  },
  {
   "cell_type": "code",
   "execution_count": 19,
   "metadata": {},
   "outputs": [
    {
     "data": {
      "text/plain": [
       "(15169, '8.8.8.0/24')"
      ]
     },
     "execution_count": 19,
     "metadata": {},
     "output_type": "execute_result"
    }
   ],
   "source": [
    "import pyasn\n",
    "\n",
    "asndb = pyasn.pyasn('/Users/feamster/anaconda2/ipasn.dat')\n",
    "asndb.lookup('8.8.8.8')"
   ]
  },
  {
   "cell_type": "code",
   "execution_count": 38,
   "metadata": {},
   "outputs": [
    {
     "name": "stdout",
     "output_type": "stream",
     "text": [
      "US\n"
     ]
    }
   ],
   "source": [
    "from geoip import geolite2\n",
    "\n",
    "match = geolite2.lookup('17.0.0.1')\n",
    "print match.country"
   ]
  },
  {
   "cell_type": "code",
   "execution_count": 49,
   "metadata": {},
   "outputs": [
    {
     "name": "stdout",
     "output_type": "stream",
     "text": [
      "www.wayamo.com 1 (36444, '129.121.176.0/20') US\n",
      "www.loyolaandnews.es 1 (39020, '91.192.110.0/24') ES\n",
      "simplecast.com 1 (14618, '52.200.0.0/13') US\n",
      "simplecast.com 1 (14618, '52.72.0.0/15') US\n",
      "simplecast.com 1 (14618, '18.232.0.0/14') US\n",
      "simplecast.com 1 (14618, '34.192.0.0/12') US\n",
      "simplecast.com 1 (14618, '54.87.0.0/16') US\n",
      "simplecast.com 1 (14618, '35.168.0.0/13') US\n",
      "nnd.ng 3 (16509, '54.213.0.0/16') US\n",
      "www.dispatchlive.co.za 1 (15169, '216.58.223.0/24') US\n",
      "www.thepresidency.gov.za 7 (36994, '41.0.5.0/24') ZA\n",
      "www.sabreakingnews.co.za 1 (15169, '104.199.64.0/19') US\n",
      "southerncourier.co.za 2 (13335, '104.24.0.0/20') US\n",
      "southerncourier.co.za 2 (13335, '104.24.0.0/20') US\n",
      "actionkingbest.blogspot.com 1 (15169, '216.58.223.0/24') US\n",
      "ift.tt 26 (395224, '67.199.248.0/24') US\n",
      "ift.tt 26 (395224, '67.199.248.0/24') US\n",
      "readinglist.click 4 (16509, '34.248.0.0/13') US\n",
      "theconversation.com 9 (54113, '151.101.0.0/22') US\n",
      "theconversation.com 9 (54113, '151.101.192.0/22') US\n",
      "theconversation.com 9 (54113, '151.101.64.0/22') US\n",
      "theconversation.com 9 (54113, '151.101.128.0/22') US\n",
      "trib.al 1 (14618, '54.174.0.0/15') US\n",
      "trib.al 1 (14618, '18.232.0.0/14') US\n",
      "trib.al 1 (14618, '54.84.0.0/15') US\n",
      "blogs.worldbank.org 1 (13335, '104.17.176.0/20') US\n",
      "blogs.worldbank.org 1 (13335, '104.17.176.0/20') US\n",
      "www.scmp.com 1 (45102, '47.89.0.0/18') CA\n",
      "www.regularnews.net 1 (26496, '160.153.16.0/22') US\n",
      "www.flickr.com 5 (43428, '87.248.114.0/23') GB\n",
      "www.flickr.com 5 (203070, '77.238.180.0/23') GB\n",
      "www.flickr.com 5 (203070, '77.238.180.0/23') GB\n",
      "www.flickr.com 5 (43428, '87.248.114.0/23') GB\n",
      "yesafrika.wordpress.com 1 (2635, '192.0.78.0/24') US\n",
      "yesafrika.wordpress.com 1 (2635, '192.0.78.0/24') US\n",
      "agendamagasin.no 1 (41572, '77.88.64.0/18') NO\n",
      "www.alaraby.co.uk 1 (15133, '152.195.39.0/24') US\n",
      "africareportonbusiness.com 4 (32181, '216.38.0.0/19') US\n",
      "ghtube.com 2 (36024, '174.136.12.0/22') US\n",
      "m.health24.com 1 (10474, '41.86.96.0/19') ZA\n",
      "www.pscp.tv 6 (16509, '52.57.0.0/16') US\n",
      "www.pscp.tv 6 (16509, '52.29.0.0/16') US\n",
      "townpress.co.za 11 (37153, '197.242.64.0/20') ZA\n",
      "www.causes.com 2 (13335, '104.24.16.0/20') US\n",
      "www.causes.com 2 (13335, '104.24.16.0/20') US\n",
      "www.msn.com 8 (8068, '204.79.197.0/24') US\n",
      "www.farmersweekly.co.za 2 (37153, '129.232.128.0/17') ZA\n",
      "www.politicsweb.co.za 5 (37053, '41.215.232.0/21') ZA\n",
      "mogolodi.ancnorthwest.org 1 (37611, '197.242.144.0/21') ZA\n",
      "www.thepressradio.com 1 (26496, '160.153.128.0/21') US\n",
      "daneloo.com 1 (20454, '108.170.0.0/18') US\n",
      "www.sabcnews.com 5 (3741, '197.96.0.0/13') ZA\n",
      "www.alwihdainfo.com 1 (16276, '213.251.128.0/18') FR\n",
      "www.alwihdainfo.com 1 (16276, '94.23.0.0/16') FR\n",
      "nuus.info 1 (49282, '95.175.96.0/19') FI\n",
      "www.cnbcafrica.com 1 (13335, '104.25.240.0/20') US\n",
      "www.cnbcafrica.com 1 (13335, '104.25.240.0/20') US\n",
      "letabaherald.co.za 3 (13335, '104.25.176.0/20') US\n",
      "letabaherald.co.za 3 (13335, '104.25.176.0/20') US\n",
      "businesstech.co.za 1 (13335, '104.25.32.0/20') US\n",
      "businesstech.co.za 1 (13335, '104.25.32.0/20') US\n",
      "m.news24.com 59 (10474, '41.86.96.0/19') ZA\n",
      "www.theglobeandmail.com 1 (20940, '2.21.98.0/24') AT\n",
      "www.theglobeandmail.com 1 (20940, '2.21.98.0/24') AT\n",
      "citizen.co.za 8 (13335, '104.25.96.0/20') US\n",
      "citizen.co.za 8 (13335, '104.25.96.0/20') US\n",
      "lowvelder.co.za 2 (13335, '104.25.208.0/20') US\n",
      "lowvelder.co.za 2 (13335, '104.25.208.0/20') US\n",
      "www.sport24.co.za 5 (10474, '41.86.96.0/19') ZA\n",
      "khalilhumam.com 1 (19551, '107.154.166.0/24') US\n",
      "khalilhumam.com 1 (19551, '107.154.159.0/24') US\n",
      "africachinapresscentre.org 1 (32475, '146.66.67.0/24') BG\n",
      "www.artlink.co.za 1 (37153, '41.204.192.0/20') ZA\n",
      "www.dailymaverick.co.za 7 (15169, '35.192.0.0/13') US\n",
      "www.google.com 1 (15169, '216.58.223.0/24') US\n",
      "www.bloomberg.com 5 (16625, '23.45.72.0/22') US\n",
      "www.power987.co.za 2 (37153, '41.203.16.0/20') ZA\n",
      "www.news24.com 211 (10474, '41.86.96.0/19') ZA\n",
      "ow.ly 86 (16509, '54.67.0.0/17') US\n",
      "ow.ly 86 (16509, '54.183.128.0/17') US\n",
      "ow.ly 86 (16509, '54.183.128.0/17') US\n",
      "ow.ly 86 (16509, '54.67.0.0/17') US\n",
      "ow.ly 86 (16509, '54.183.128.0/17') US\n",
      "ow.ly 86 (16509, '54.67.0.0/17') US\n",
      "curiouscat.me 1 (13335, '104.20.80.0/20') US\n",
      "curiouscat.me 1 (13335, '104.20.80.0/20') US\n",
      "ulinkd.com 1 (54641, '173.205.124.0/23') US\n",
      "search.app.goo.gl 1 (15169, '216.58.223.0/24') US\n",
      "maroelamedia.co.za 1 (13335, '104.20.128.0/20') US\n",
      "maroelamedia.co.za 1 (13335, '104.20.128.0/20') US\n",
      "pressreader.com 1 (19551, '107.154.111.0/24') US\n",
      "pressreader.com 1 (19551, '107.154.103.0/24') US\n",
      "bloom.bg 4 (395224, '67.199.248.0/24') US\n",
      "bloom.bg 4 (395224, '67.199.248.0/24') US\n",
      "www.ipan.co.za 1 (37611, '197.242.144.0/21') ZA\n",
      "nanb.co.za 2 (8560, '109.228.0.0/18') GB\n",
      "youtu.be 36 (15169, '216.58.223.0/24') US\n",
      "briefly.co.za 2 (14618, '52.20.0.0/14') US\n",
      "briefly.co.za 2 (14618, '52.72.0.0/15') US\n",
      "www.africa-confidential.com 1 (8075, '51.140.0.0/14') GB\n",
      "www.evalex.com 1 (37387, '41.223.9.0/24') ZA\n",
      "radioalansaar.co.za 1 (24446, '180.235.128.0/22') AU\n",
      "protectourchildren.co.za 2 (13335, '104.24.112.0/20') US\n",
      "protectourchildren.co.za 2 (13335, '104.24.112.0/20') US\n",
      "m.huffingtonpost.co.za 3 (15133, '152.195.52.0/24') US\n",
      "www.ghanaiannews.ca 1 (26496, '192.169.248.0/22') US\n",
      "investingmatters.co.za 2 (36874, '196.41.96.0/19') ZA\n",
      "www.4-traders.com 1 (13335, '104.24.96.0/20') US\n",
      "www.4-traders.com 1 (13335, '104.24.96.0/20') US\n",
      "www.isolezwe.co.za 1 (13335, '104.28.16.0/20') US\n",
      "www.isolezwe.co.za 1 (13335, '104.28.16.0/20') US\n",
      "go.shr.lc 1 (395224, '67.199.248.0/24') US\n",
      "go.shr.lc 1 (395224, '67.199.248.0/24') US\n",
      "news360.com 1 (36825, '67.21.0.0/20') US\n",
      "www.caribbeannews.net 1 (16509, '143.204.16.0/21') US\n",
      "www.caribbeannews.net 1 (16509, '143.204.16.0/21') US\n",
      "www.caribbeannews.net 1 (16509, '143.204.16.0/21') US\n",
      "www.caribbeannews.net 1 (16509, '143.204.16.0/21') US\n",
      "amp.ewn.co.za 3 (54113, '151.101.172.0/22') US\n",
      "www.hinnews.com 3 (13335, '104.27.128.0/20') US\n",
      "www.hinnews.com 3 (13335, '104.27.128.0/20') US\n",
      "www.youtube.com 5 (15169, '216.58.223.0/24') US\n",
      "www.youtube.com 5 (15169, '216.58.223.0/24') US\n",
      "www.africanpoliticsandpolicy.com 3 (16276, '176.31.0.0/16') FR\n",
      "www.timesofearth.com 1 (26496, '37.148.204.0/22') NL\n",
      "tdy.ng 4 (16509, '54.213.0.0/16') US\n",
      "anctoday.org.za 2 (37153, '129.232.128.0/17') ZA\n",
      "joburgeastexpress.co.za 1 (13335, '104.25.32.0/20') US\n",
      "joburgeastexpress.co.za 1 (13335, '104.25.32.0/20') US\n",
      "sundayexpress.co.ls 1 (37611, '154.0.168.0/21') ZA\n",
      "pltwps.it 2 (16276, '5.196.0.0/16') FR\n",
      "www.zerohedge.com 1 (15169, '35.224.0.0/14') US\n",
      "www.biznews.com 4 (13335, '104.25.32.0/20') US\n",
      "www.biznews.com 4 (13335, '104.25.32.0/20') US\n",
      "africatimes.com 1 (16276, '213.186.32.0/19') FR\n",
      "irr.org.za 2 (24940, '176.9.0.0/16') DE\n",
      "ht.ly 3 (16509, '54.67.0.0/17') US\n",
      "ht.ly 3 (16509, '54.183.128.0/17') US\n",
      "ht.ly 3 (16509, '54.183.128.0/17') US\n",
      "ht.ly 3 (16509, '54.67.0.0/17') US\n",
      "ht.ly 3 (16509, '54.67.0.0/17') US\n",
      "ht.ly 3 (16509, '54.183.128.0/17') US\n",
      "junutalk.com 1 (32475, '146.66.66.0/24') BG\n",
      "mg.co.za 23 (13335, '104.18.32.0/20') US\n",
      "mg.co.za 23 (13335, '104.18.32.0/20') US\n",
      "is.gd 2 (13335, '104.31.0.0/20') US\n",
      "is.gd 2 (13335, '104.31.0.0/20') US\n",
      "flip.it 1 (14618, '52.4.0.0/14') US\n",
      "flip.it 1 (14618, '54.86.0.0/16') US\n",
      "ramaphosa.org.za 1 (37153, '129.232.128.0/17') ZA\n",
      "www.agenceecofin.com 3 (16276, '87.98.128.0/17') FR\n",
      "www.chabad.org 1 (11403, '199.26.225.0/24') US\n",
      "www.health-e.org.za 1 (24940, '138.201.0.0/16') DE\n",
      "bitroot.co.za 1 (36943, '41.185.0.0/16') ZA\n",
      "www.gov.za 6 (37130, '164.151.128.0/17') ZA\n",
      "www.gt-mag.co.za 3 (58182, '38.18.228.0/24') US\n",
      "s.einnews.com 4 (19994, '173.203.0.0/17') US\n",
      "s.einnews.com 4 (19994, '173.203.0.0/17') US\n",
      "baywindows.com 2 (14618, '54.86.0.0/16') US\n",
      "qoo.ly 1 (36351, '173.193.128.0/18') US\n",
      "m.fin24.com 8 (10474, '41.86.96.0/19') ZA\n",
      "ceoafrica.com 1 (22611, '192.145.236.0/23') US\n",
      "www.occuworld.org 1 (36351, '70.84.0.0/14') US\n",
      "www.netwerk24.com 3 (10474, '41.86.96.0/19') ZA\n",
      "www.azaniapost.com 1 (42910, '212.68.56.0/24') TR\n",
      "lsh.re 1 (13335, '104.24.0.0/20') US\n",
      "lsh.re 1 (13335, '104.24.0.0/20') US\n",
      "en.wikipedia.org 7 (14907, '91.198.174.0/24') NL\n",
      "www.nigeriatoday.ng 4 (13335, '104.27.128.0/20') US\n",
      "www.nigeriatoday.ng 4 (13335, '104.27.128.0/20') US\n",
      "mybroadband.co.za 1 (13335, '104.20.0.0/20') US\n",
      "mybroadband.co.za 1 (13335, '104.20.0.0/20') US\n",
      "www.nytimes.com 1 (54113, '151.101.172.0/22') US\n",
      "www.environmentguru.com 1 (16509, '13.35.58.0/23') US\n",
      "www.environmentguru.com 1 (16509, '13.35.58.0/23') US\n",
      "www.environmentguru.com 1 (16509, '13.35.58.0/23') US\n",
      "www.environmentguru.com 1 (16509, '13.35.58.0/23') US\n",
      "www.africanews24-7.co.za 6 (16509, '34.208.0.0/12') US\n",
      "new.sajr.co.za 1 (37611, '197.242.152.0/21') ZA\n",
      "twitter.com 409 (13414, '104.244.42.0/24') US\n",
      "twitter.com 409 (13414, '104.244.42.0/24') US\n",
      "www.newspulseonline.com 1 (37611, '197.242.144.0/21') ZA\n",
      "nyti.ms 3 (395224, '67.199.248.0/24') US\n",
      "nyti.ms 3 (395224, '67.199.248.0/24') US\n",
      "www.sarugbymag.co.za 2 (13335, '104.28.0.0/20') US\n",
      "www.sarugbymag.co.za 2 (13335, '104.28.0.0/20') US\n",
      "www.instagram.com 3 (32934, '157.240.1.0/24') US\n",
      "free-mail.co.za 1 (22878, '162.247.76.0/22') US\n",
      "www.nationalgossipblog.com 1 (26496, '160.153.136.0/22') US\n",
      "africanbrains.net 4 (20860, '185.26.149.0/24') GB\n",
      "www.sanews.gov.za 3 (37130, '164.151.128.0/17') ZA\n",
      "ourworld.unu.edu 1 (2907, '202.253.138.0/23') JP\n",
      "www.thesouthafrican.com 2 (54113, '151.101.172.0/22') US\n",
      "southafricatoday.net 1 (13335, '104.27.128.0/20') US\n",
      "southafricatoday.net 1 (13335, '104.27.128.0/20') US\n",
      "twib.in 5 (13335, '104.28.16.0/20') US\n",
      "twib.in 5 (13335, '104.28.16.0/20') US\n",
      "www.ceoafrica.com 1 (22611, '192.145.236.0/23') US\n",
      "soundcloud.com 2 (16509, '13.35.58.0/23') US\n",
      "soundcloud.com 2 (16509, '13.35.58.0/23') US\n",
      "soundcloud.com 2 (16509, '13.35.58.0/23') US\n",
      "soundcloud.com 2 (16509, '13.35.58.0/23') US\n",
      "www.chinaafricaproject.com 1 (46606, '69.195.64.0/18') US\n",
      "primeviewtv.com 1 (55293, '209.124.64.0/19') GB\n",
      "allafrica.com 12 (19994, '173.203.0.0/17') US\n",
      "www.facebook.com 34 (32934, '157.240.1.0/24') US\n",
      "www.zulusound.com 2 (13335, '104.18.48.0/20') US\n",
      "www.zulusound.com 2 (13335, '104.18.48.0/20') US\n",
      "goo.gl 54 (15169, '216.58.223.0/24') US\n",
      "politicoscope.com 1 (8560, '82.223.0.0/16') ES\n",
      "www.enca.com 26 (37153, '197.189.192.0/19') ZA\n",
      "www.enca.com 26 (37153, '197.189.240.0/20') ZA\n",
      "www.iol.co.za 34 (13335, '104.20.96.0/20') US\n",
      "www.iol.co.za 34 (13335, '104.20.96.0/20') US\n",
      "city-press.news24.com 3 (10474, '41.86.96.0/19') ZA\n",
      "www.cyrilramaphosafoundation.org 3 (37670, '41.77.48.0/24') ZA\n",
      "www.da.org.za 2 (16509, '34.240.0.0/13') US\n",
      "www.da.org.za 2 (16509, '54.194.0.0/16') IE\n",
      "www.da.org.za 2 (16509, '54.171.0.0/16') IE\n",
      "www.da.org.za 2 (16509, '52.48.0.0/14') US\n",
      "www.da.org.za 2 (16509, '34.248.0.0/13') US\n",
      "www.da.org.za 2 (16509, '34.240.0.0/13') US\n",
      "www.da.org.za 2 (16509, '54.76.0.0/15') IE\n",
      "www.da.org.za 2 (16509, '54.229.128.0/17') IE\n",
      "www.ifri.org 2 (41628, '89.31.144.0/21') FR\n",
      "comarochronicle.co.za 1 (13335, '104.25.240.0/20') US\n",
      "comarochronicle.co.za 1 (13335, '104.25.240.0/20') US\n",
      "tinyurl.com 7 (13335, '104.20.208.0/20') US\n",
      "tinyurl.com 7 (13335, '104.20.208.0/20') US\n",
      "weeklyxpose.co.za 3 (37153, '129.232.128.0/17') ZA\n",
      "dlvr.it 61 (16509, '34.208.0.0/12') US\n",
      "www.goodthingsguy.com 2 (37611, '154.0.160.0/21') ZA\n",
      "huffp.st 5 (14618, '184.73.0.0/16') US\n",
      "nehandaradio.com 1 (13335, '104.25.112.0/20') US\n",
      "nehandaradio.com 1 (13335, '104.25.112.0/20') US\n",
      "af.reuters.com 1 (16509, '13.35.58.0/23') US\n",
      "af.reuters.com 1 (16509, '13.35.58.0/23') US\n",
      "af.reuters.com 1 (16509, '13.35.58.0/23') US\n",
      "af.reuters.com 1 (16509, '13.35.58.0/23') US\n",
      "www.ehowzit.co.za 1 (36943, '41.185.26.0/24') ZA\n",
      "www.reddit.com 3 (54113, '151.101.172.0/22') US\n",
      "www.huffingtonpost.co.za 5 (15133, '152.195.52.0/24') US\n",
      "bedfordviewedenvalenews.co.za 1 (13335, '104.27.16.0/20') US\n",
      "bedfordviewedenvalenews.co.za 1 (13335, '104.27.16.0/20') US\n",
      "therepublicmail.co.za 4 (37611, '154.0.168.0/21') ZA\n",
      "a.msn.com 10 (8068, '204.79.197.0/24') US\n",
      "ewn.co.za 44 (54113, '151.101.64.0/22') US\n",
      "ewn.co.za 44 (54113, '151.101.0.0/22') US\n",
      "ewn.co.za 44 (54113, '151.101.192.0/22') US\n",
      "ewn.co.za 44 (54113, '151.101.128.0/22') US\n",
      "www.baywindows.com 1 (14618, '54.86.0.0/16') US\n",
      "www.thegatewaypundit.com 1 (13335, '104.23.96.0/20') US\n",
      "www.thegatewaypundit.com 1 (13335, '104.23.96.0/20') US\n",
      "www.thetrumpet.com 1 (22773, '66.210.182.0/24') US\n",
      "m.polity.org.za 1 (37680, '154.0.0.0/20') ZA\n"
     ]
    },
    {
     "name": "stdout",
     "output_type": "stream",
     "text": [
      "za.trendwiki.co 5 (63949, '178.79.128.0/18') GB\n",
      "buff.ly 52 (395224, '67.199.248.0/24') US\n",
      "buff.ly 52 (395224, '67.199.248.0/24') US\n",
      "www.dailysun.co.za 1 (10474, '41.86.96.0/19') ZA\n",
      "www.moneyweb.co.za 1 (13335, '104.25.192.0/20') US\n",
      "www.moneyweb.co.za 1 (13335, '104.25.192.0/20') US\n",
      "www.kooderadio.com 1 (20013, '50.116.80.0/20') US\n",
      "thecolonialchronicle.com 2 (26496, '107.180.0.0/18') US\n",
      "bit.ly 174 (395224, '67.199.248.0/24') US\n",
      "bit.ly 174 (395224, '67.199.248.0/24') US\n",
      "www.salabournews.co.za 2 (36943, '41.185.0.0/16') ZA\n",
      "www.africantimesnews.co.za 1 (49453, '134.19.190.0/23') NL\n",
      "news365.co.za 3 (13335, '104.27.160.0/20') US\n",
      "news365.co.za 3 (13335, '104.27.160.0/20') US\n",
      "www.thedailyvox.co.za 1 (3741, '197.96.0.0/13') ZA\n",
      "www.timeslive.co.za 33 (15169, '216.58.223.0/24') US\n",
      "zimsinsa.com 1 (36943, '41.185.0.0/16') ZA\n",
      "albertonrecord.co.za 2 (13335, '104.24.0.0/20') US\n",
      "albertonrecord.co.za 2 (13335, '104.24.0.0/20') US\n",
      "lnkd.in 2 (14413, '108.174.10.0/24') US\n",
      "www.businesslive.co.za 37 (15169, '216.58.223.0/24') US\n",
      "www.groundup.org.za 7 (198047, '31.170.120.0/21') GB\n",
      "southafrica.trendolizer.com 1 (60781, '37.48.64.0/18') NL\n",
      "www.africanews.it 4 (31034, '89.46.104.0/21') IT\n",
      "www.libertylawsite.org 1 (15169, '104.155.128.0/19') US\n",
      "www.proshareng.com 1 (8560, '74.208.0.0/16') US\n",
      "www.utrikesmagasinet.se 1 (35706, '91.212.209.0/24') SE\n",
      "www.fin24.com 33 (10474, '41.86.96.0/19') ZA\n",
      "www.702.co.za 12 (36937, '41.160.0.0/12') ZA\n",
      "mype.co.za 2 (22878, '162.247.76.0/22') US\n",
      "www.independent.co.uk 3 (54113, '151.101.172.0/22') US\n",
      "africannewsagency.com 3 (16509, '34.240.0.0/13') US\n",
      "africannewsagency.com 3 (16509, '52.208.0.0/13') US\n",
      "sa-news.com 7 (49282, '95.175.96.0/19') FI\n",
      "blog.outtakeonline.com 1 (15169, '216.58.223.0/24') US\n",
      "select.timeslive.co.za 1 (15169, '216.239.34.0/24') US\n",
      "select.timeslive.co.za 1 (15169, '216.239.36.0/24') US\n",
      "select.timeslive.co.za 1 (15169, '216.239.32.0/24') US\n",
      "select.timeslive.co.za 1 (15169, '216.239.38.0/24') US\n",
      "profmoosa.wordpress.com 1 (2635, '192.0.78.0/24') US\n",
      "profmoosa.wordpress.com 1 (2635, '192.0.78.0/24') US\n"
     ]
    }
   ],
   "source": [
    "#for qname in ips.keys():\n",
    "#   print qname,domains[qname], ips[qname][0]     \n",
    "\n",
    "for qname in ips.keys():\n",
    "    for i in range(len(ips[qname])):\n",
    "        ip_match = geolite2.lookup(ips[qname][i])\n",
    "        if ip_match is None:\n",
    "            continue\n",
    "            \n",
    "        ip_country = ip_match.country\n",
    "        print qname, domains[qname], asndb.lookup(ips[qname][i]), ip_country\n"
   ]
  },
  {
   "cell_type": "markdown",
   "metadata": {},
   "source": [
    "### Map Each DNS Nameserver to Its Corresponding IP Address and Country"
   ]
  },
  {
   "cell_type": "code",
   "execution_count": null,
   "metadata": {},
   "outputs": [],
   "source": []
  }
 ],
 "metadata": {
  "kernelspec": {
   "display_name": "Python 2",
   "language": "python",
   "name": "python2"
  },
  "language_info": {
   "codemirror_mode": {
    "name": "ipython",
    "version": 2
   },
   "file_extension": ".py",
   "mimetype": "text/x-python",
   "name": "python",
   "nbconvert_exporter": "python",
   "pygments_lexer": "ipython2",
   "version": "2.7.15"
  }
 },
 "nbformat": 4,
 "nbformat_minor": 2
}
